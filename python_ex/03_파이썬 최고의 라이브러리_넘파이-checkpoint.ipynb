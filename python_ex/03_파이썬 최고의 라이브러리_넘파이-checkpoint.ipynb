{
 "cells": [
  {
   "cell_type": "markdown",
   "metadata": {
    "id": "Zyyy_4vT_cP0"
   },
   "source": [
    "# **생능 출판사 \"으뜸 데이터 분석과 머신러닝\"(1판) 교재의 소스 코드**\n",
    "## *3장 파이썬 최고의 라이브러리 : 넘파이*\n",
    "---\n",
    "* 출판사 : 생능 출판사( http://www.booksr.co.kr/ )\n",
    "* 저자 : 박동규, 강영민\n",
    "* 책의 소스코드 저장소 : https://github.com/dongupak/DataML\n",
    "* 안내 : 이 노트북은 책의 코드를 담고 있습니다.\n",
    "*  저작권 : 본 주피터 노트북 코드는 자유롭게 배포가능하지만 위의 출판사, 저서, 저자표기와 함께 배포해 주십시오."
   ]
  },
  {
   "cell_type": "markdown",
   "metadata": {
    "id": "nCdbSDN4EOMf"
   },
   "source": [
    "### 3.1 파이썬 리스트와 넘파이"
   ]
  },
  {
   "cell_type": "code",
   "execution_count": null,
   "metadata": {
    "colab": {
     "base_uri": "https://localhost:8080/"
    },
    "executionInfo": {
     "elapsed": 352,
     "status": "ok",
     "timestamp": 1636333408131,
     "user": {
      "displayName": "박동규",
      "photoUrl": "https://lh3.googleusercontent.com/a-/AOh14GhpRCibv0_8j-H1SbFa_4yLDitwNUElwkvFYBL3Ppk=s64",
      "userId": "10745738943866733973"
     },
     "user_tz": -540
    },
    "id": "-HuiKvRmERTD",
    "outputId": "f848a967-4e00-46e3-d96a-17dba72fde34"
   },
   "outputs": [
    {
     "data": {
      "text/plain": [
       "array([2, 3, 4])"
      ]
     },
     "execution_count": 5,
     "metadata": {},
     "output_type": "execute_result"
    }
   ],
   "source": [
    " import numpy as np      # numpy의 별칭으로 np를 지정함\n",
    "\n",
    " a = np.array([2, 3, 4]) # 다차원 배열 객체\n",
    " a"
   ]
  },
  {
   "cell_type": "markdown",
   "metadata": {
    "id": "sk-AvGnSEl-A"
   },
   "source": [
    "### 3.2 다차원 배열의 속성들"
   ]
  },
  {
   "cell_type": "code",
   "execution_count": null,
   "metadata": {
    "colab": {
     "base_uri": "https://localhost:8080/"
    },
    "executionInfo": {
     "elapsed": 350,
     "status": "ok",
     "timestamp": 1636333437910,
     "user": {
      "displayName": "박동규",
      "photoUrl": "https://lh3.googleusercontent.com/a-/AOh14GhpRCibv0_8j-H1SbFa_4yLDitwNUElwkvFYBL3Ppk=s64",
      "userId": "10745738943866733973"
     },
     "user_tz": -540
    },
    "id": "ofbRk_OSEURB",
    "outputId": "22c75abc-b24b-4624-e1b4-bc3b5459ab2a"
   },
   "outputs": [
    {
     "data": {
      "text/plain": [
       "((3,), 1, dtype('int64'), 8, 3)"
      ]
     },
     "execution_count": 6,
     "metadata": {},
     "output_type": "execute_result"
    }
   ],
   "source": [
    "a = np.array([2, 3, 4]) # 넘파이 ndarray 객체의 생성\n",
    "\n",
    "# a 객체의 형상(shape), 차원, 요소의 자료형, 요소의 크기(byte), 요소의 수 \n",
    "a.shape, a.ndim, a.dtype, a.itemsize, a.size"
   ]
  },
  {
   "cell_type": "code",
   "execution_count": null,
   "metadata": {
    "colab": {
     "base_uri": "https://localhost:8080/"
    },
    "executionInfo": {
     "elapsed": 342,
     "status": "ok",
     "timestamp": 1636333455637,
     "user": {
      "displayName": "박동규",
      "photoUrl": "https://lh3.googleusercontent.com/a-/AOh14GhpRCibv0_8j-H1SbFa_4yLDitwNUElwkvFYBL3Ppk=s64",
      "userId": "10745738943866733973"
     },
     "user_tz": -540
    },
    "id": "JNWS4sq8EsCE",
    "outputId": "feb64e0f-b9d3-4d31-9b78-171ce817c35a"
   },
   "outputs": [
    {
     "data": {
      "text/plain": [
       "(2, 3)"
      ]
     },
     "execution_count": 7,
     "metadata": {},
     "output_type": "execute_result"
    }
   ],
   "source": [
    "b = np.array([[1, 2, 3], [4, 5, 6]]) # 넘파이 ndarray 객체의 b 생성 \n",
    "b.shape"
   ]
  },
  {
   "cell_type": "code",
   "execution_count": null,
   "metadata": {
    "colab": {
     "base_uri": "https://localhost:8080/"
    },
    "executionInfo": {
     "elapsed": 361,
     "status": "ok",
     "timestamp": 1636333484325,
     "user": {
      "displayName": "박동규",
      "photoUrl": "https://lh3.googleusercontent.com/a-/AOh14GhpRCibv0_8j-H1SbFa_4yLDitwNUElwkvFYBL3Ppk=s64",
      "userId": "10745738943866733973"
     },
     "user_tz": -540
    },
    "id": "VlLtjO91EwXT",
    "outputId": "8e5142d7-63b1-4133-9fdb-c3a682c5d478"
   },
   "outputs": [
    {
     "data": {
      "text/plain": [
       "array([11, 22, 33])"
      ]
     },
     "execution_count": 9,
     "metadata": {},
     "output_type": "execute_result"
    }
   ],
   "source": [
    "a = np.array([10, 20, 30])   # 넘파이 ndarray 객체 a 생성 \n",
    "b = np.array([1, 2, 3])      # 넘파이 ndarray 객체 b 생성 \n",
    "a + b"
   ]
  },
  {
   "cell_type": "code",
   "execution_count": null,
   "metadata": {
    "colab": {
     "base_uri": "https://localhost:8080/"
    },
    "executionInfo": {
     "elapsed": 339,
     "status": "ok",
     "timestamp": 1636333491130,
     "user": {
      "displayName": "박동규",
      "photoUrl": "https://lh3.googleusercontent.com/a-/AOh14GhpRCibv0_8j-H1SbFa_4yLDitwNUElwkvFYBL3Ppk=s64",
      "userId": "10745738943866733973"
     },
     "user_tz": -540
    },
    "id": "woc7PyxYE2dh",
    "outputId": "17d87e36-1cf7-4678-819d-3a7a87d8dec5"
   },
   "outputs": [
    {
     "data": {
      "text/plain": [
       "array([ 9, 18, 27])"
      ]
     },
     "execution_count": 11,
     "metadata": {},
     "output_type": "execute_result"
    }
   ],
   "source": [
    "a - b"
   ]
  },
  {
   "cell_type": "code",
   "execution_count": null,
   "metadata": {
    "colab": {
     "base_uri": "https://localhost:8080/"
    },
    "executionInfo": {
     "elapsed": 6,
     "status": "ok",
     "timestamp": 1636333495583,
     "user": {
      "displayName": "박동규",
      "photoUrl": "https://lh3.googleusercontent.com/a-/AOh14GhpRCibv0_8j-H1SbFa_4yLDitwNUElwkvFYBL3Ppk=s64",
      "userId": "10745738943866733973"
     },
     "user_tz": -540
    },
    "id": "mjUtiZE8E5De",
    "outputId": "c61ab232-e1d1-4be5-edc9-6123c0c34734"
   },
   "outputs": [
    {
     "data": {
      "text/plain": [
       "array([10, 40, 90])"
      ]
     },
     "execution_count": 12,
     "metadata": {},
     "output_type": "execute_result"
    }
   ],
   "source": [
    "a * b"
   ]
  },
  {
   "cell_type": "code",
   "execution_count": null,
   "metadata": {
    "colab": {
     "base_uri": "https://localhost:8080/"
    },
    "executionInfo": {
     "elapsed": 346,
     "status": "ok",
     "timestamp": 1636333500804,
     "user": {
      "displayName": "박동규",
      "photoUrl": "https://lh3.googleusercontent.com/a-/AOh14GhpRCibv0_8j-H1SbFa_4yLDitwNUElwkvFYBL3Ppk=s64",
      "userId": "10745738943866733973"
     },
     "user_tz": -540
    },
    "id": "hAz8XyVOE6Ap",
    "outputId": "f1564f0b-2886-4a44-f320-b2e12caf7ba1"
   },
   "outputs": [
    {
     "data": {
      "text/plain": [
       "array([10., 10., 10.])"
      ]
     },
     "execution_count": 13,
     "metadata": {},
     "output_type": "execute_result"
    }
   ],
   "source": [
    "a / b"
   ]
  },
  {
   "cell_type": "markdown",
   "metadata": {
    "id": "8dhlOs3yE982"
   },
   "source": [
    "#### NOTE : 넘파이 배열의 데이터 타입(dtype)을 지정하는 두 가지 방법"
   ]
  },
  {
   "cell_type": "code",
   "execution_count": null,
   "metadata": {
    "id": "JEIRkAiIFBW4"
   },
   "outputs": [],
   "source": [
    "a = np.array([1, 2, 3, 4], dtype = np.int32)"
   ]
  },
  {
   "cell_type": "code",
   "execution_count": null,
   "metadata": {
    "id": "uKpxAkrHFDLb"
   },
   "outputs": [],
   "source": [
    "a = np.array([1, 2, 3, 4], dtype = 'int32')"
   ]
  },
  {
   "cell_type": "markdown",
   "metadata": {
    "id": "GYi7QzE3FIFh"
   },
   "source": [
    "### 3.3 다차원 배열과 브로드캐스팅"
   ]
  },
  {
   "cell_type": "code",
   "execution_count": null,
   "metadata": {
    "colab": {
     "base_uri": "https://localhost:8080/"
    },
    "executionInfo": {
     "elapsed": 345,
     "status": "ok",
     "timestamp": 1636333578550,
     "user": {
      "displayName": "박동규",
      "photoUrl": "https://lh3.googleusercontent.com/a-/AOh14GhpRCibv0_8j-H1SbFa_4yLDitwNUElwkvFYBL3Ppk=s64",
      "userId": "10745738943866733973"
     },
     "user_tz": -540
    },
    "id": "hpsBhoiLFFPb",
    "outputId": "1cf94ac8-8413-4ce8-df8f-f1daa212b78e"
   },
   "outputs": [
    {
     "data": {
      "text/plain": [
       "array([100, 200, 300])"
      ]
     },
     "execution_count": 16,
     "metadata": {},
     "output_type": "execute_result"
    }
   ],
   "source": [
    "a = np.array([10, 20, 30])\n",
    "a * 10"
   ]
  },
  {
   "cell_type": "code",
   "execution_count": null,
   "metadata": {
    "colab": {
     "base_uri": "https://localhost:8080/"
    },
    "executionInfo": {
     "elapsed": 533,
     "status": "ok",
     "timestamp": 1636333586194,
     "user": {
      "displayName": "박동규",
      "photoUrl": "https://lh3.googleusercontent.com/a-/AOh14GhpRCibv0_8j-H1SbFa_4yLDitwNUElwkvFYBL3Ppk=s64",
      "userId": "10745738943866733973"
     },
     "user_tz": -540
    },
    "id": "YHB3DpyDFOXQ",
    "outputId": "6642d7a3-34c4-43b0-809a-f157d6641f27"
   },
   "outputs": [
    {
     "data": {
      "text/plain": [
       "array([20, 30, 40])"
      ]
     },
     "execution_count": 17,
     "metadata": {},
     "output_type": "execute_result"
    }
   ],
   "source": [
    "a + 10"
   ]
  },
  {
   "cell_type": "code",
   "execution_count": null,
   "metadata": {
    "colab": {
     "base_uri": "https://localhost:8080/"
    },
    "executionInfo": {
     "elapsed": 389,
     "status": "ok",
     "timestamp": 1636334155355,
     "user": {
      "displayName": "박동규",
      "photoUrl": "https://lh3.googleusercontent.com/a-/AOh14GhpRCibv0_8j-H1SbFa_4yLDitwNUElwkvFYBL3Ppk=s64",
      "userId": "10745738943866733973"
     },
     "user_tz": -540
    },
    "id": "THDQ7uuAFQJ6",
    "outputId": "35dbe10b-a52c-4f10-e5fd-bb4970c424f2"
   },
   "outputs": [
    {
     "data": {
      "text/plain": [
       "array([[12, 23, 34],\n",
       "       [42, 53, 64]])"
      ]
     },
     "execution_count": 19,
     "metadata": {},
     "output_type": "execute_result"
    }
   ],
   "source": [
    "b = np.array([[10, 20, 30],\n",
    "              [40, 50, 60]])\n",
    "c = np.array([2, 3, 4]) \n",
    "b + c"
   ]
  },
  {
   "cell_type": "code",
   "execution_count": null,
   "metadata": {
    "colab": {
     "base_uri": "https://localhost:8080/"
    },
    "executionInfo": {
     "elapsed": 380,
     "status": "ok",
     "timestamp": 1636334161425,
     "user": {
      "displayName": "박동규",
      "photoUrl": "https://lh3.googleusercontent.com/a-/AOh14GhpRCibv0_8j-H1SbFa_4yLDitwNUElwkvFYBL3Ppk=s64",
      "userId": "10745738943866733973"
     },
     "user_tz": -540
    },
    "id": "5DitkDE5HZ0p",
    "outputId": "12b2b32d-9604-4a2a-fc65-0b231223cc71"
   },
   "outputs": [
    {
     "data": {
      "text/plain": [
       "array([[ 20,  60, 120],\n",
       "       [ 80, 150, 240]])"
      ]
     },
     "execution_count": 20,
     "metadata": {},
     "output_type": "execute_result"
    }
   ],
   "source": [
    "b * c"
   ]
  },
  {
   "cell_type": "code",
   "execution_count": null,
   "metadata": {
    "colab": {
     "base_uri": "https://localhost:8080/"
    },
    "executionInfo": {
     "elapsed": 365,
     "status": "ok",
     "timestamp": 1636334188190,
     "user": {
      "displayName": "박동규",
      "photoUrl": "https://lh3.googleusercontent.com/a-/AOh14GhpRCibv0_8j-H1SbFa_4yLDitwNUElwkvFYBL3Ppk=s64",
      "userId": "10745738943866733973"
     },
     "user_tz": -540
    },
    "id": "X0rVxhcrHceH",
    "outputId": "42881410-749c-45dc-9451-c39bcfaaba12"
   },
   "outputs": [
    {
     "data": {
      "text/plain": [
       "array([[0., 0., 0.],\n",
       "       [0., 0., 0.]])"
      ]
     },
     "execution_count": 21,
     "metadata": {},
     "output_type": "execute_result"
    }
   ],
   "source": [
    "np.zeros((2, 3)) # 2행 3열의 행렬 생성시 모든 값을 0으로"
   ]
  },
  {
   "cell_type": "code",
   "execution_count": null,
   "metadata": {
    "colab": {
     "base_uri": "https://localhost:8080/"
    },
    "executionInfo": {
     "elapsed": 357,
     "status": "ok",
     "timestamp": 1636334205700,
     "user": {
      "displayName": "박동규",
      "photoUrl": "https://lh3.googleusercontent.com/a-/AOh14GhpRCibv0_8j-H1SbFa_4yLDitwNUElwkvFYBL3Ppk=s64",
      "userId": "10745738943866733973"
     },
     "user_tz": -540
    },
    "id": "gSz1d0HpHm3_",
    "outputId": "8e10dc0d-3518-4d7a-a17c-be2ad4a838c2"
   },
   "outputs": [
    {
     "data": {
      "text/plain": [
       "array([[1., 1., 1.],\n",
       "       [1., 1., 1.]])"
      ]
     },
     "execution_count": 22,
     "metadata": {},
     "output_type": "execute_result"
    }
   ],
   "source": [
    "np.ones((2, 3)) # 2행 3열의 행렬 생성시 모든 값을 1로"
   ]
  },
  {
   "cell_type": "code",
   "execution_count": null,
   "metadata": {
    "colab": {
     "base_uri": "https://localhost:8080/"
    },
    "executionInfo": {
     "elapsed": 361,
     "status": "ok",
     "timestamp": 1636334216170,
     "user": {
      "displayName": "박동규",
      "photoUrl": "https://lh3.googleusercontent.com/a-/AOh14GhpRCibv0_8j-H1SbFa_4yLDitwNUElwkvFYBL3Ppk=s64",
      "userId": "10745738943866733973"
     },
     "user_tz": -540
    },
    "id": "gkLFgf4CHneq",
    "outputId": "1772ba43-1823-4831-aa41-831b84c81aef"
   },
   "outputs": [
    {
     "data": {
      "text/plain": [
       "array([[100, 100, 100],\n",
       "       [100, 100, 100]])"
      ]
     },
     "execution_count": 23,
     "metadata": {},
     "output_type": "execute_result"
    }
   ],
   "source": [
    "np.full((2, 3), 100) # 2행 3열의 행렬 생성시 모든 값을 100으로"
   ]
  },
  {
   "cell_type": "code",
   "execution_count": null,
   "metadata": {
    "colab": {
     "base_uri": "https://localhost:8080/"
    },
    "executionInfo": {
     "elapsed": 324,
     "status": "ok",
     "timestamp": 1636334226611,
     "user": {
      "displayName": "박동규",
      "photoUrl": "https://lh3.googleusercontent.com/a-/AOh14GhpRCibv0_8j-H1SbFa_4yLDitwNUElwkvFYBL3Ppk=s64",
      "userId": "10745738943866733973"
     },
     "user_tz": -540
    },
    "id": "OGmSBXpEHqCZ",
    "outputId": "0c432e3c-7958-442a-8769-2715e697c450"
   },
   "outputs": [
    {
     "data": {
      "text/plain": [
       "array([[1., 0., 0.],\n",
       "       [0., 1., 0.],\n",
       "       [0., 0., 1.]])"
      ]
     },
     "execution_count": 24,
     "metadata": {},
     "output_type": "execute_result"
    }
   ],
   "source": [
    "np.eye(3) # 3x3 크기의 단위 행렬 생성"
   ]
  },
  {
   "cell_type": "markdown",
   "metadata": {
    "id": "gdvHJgvQHuDA"
   },
   "source": [
    "### 3.4 연속적인 값을 가지는 다차원 배열의 생성"
   ]
  },
  {
   "cell_type": "code",
   "execution_count": null,
   "metadata": {
    "colab": {
     "base_uri": "https://localhost:8080/"
    },
    "executionInfo": {
     "elapsed": 353,
     "status": "ok",
     "timestamp": 1636334255659,
     "user": {
      "displayName": "박동규",
      "photoUrl": "https://lh3.googleusercontent.com/a-/AOh14GhpRCibv0_8j-H1SbFa_4yLDitwNUElwkvFYBL3Ppk=s64",
      "userId": "10745738943866733973"
     },
     "user_tz": -540
    },
    "id": "A86aUMPHHxkL",
    "outputId": "eadc1f6d-1d23-44f0-d934-58ad891180c7"
   },
   "outputs": [
    {
     "data": {
      "text/plain": [
       "array([0, 1, 2, 3, 4, 5, 6, 7, 8, 9])"
      ]
     },
     "execution_count": 25,
     "metadata": {},
     "output_type": "execute_result"
    }
   ],
   "source": [
    "np.arange(0, 10) # 0에서 9까지 연속적인 수열을 생성"
   ]
  },
  {
   "cell_type": "code",
   "execution_count": null,
   "metadata": {
    "colab": {
     "base_uri": "https://localhost:8080/"
    },
    "executionInfo": {
     "elapsed": 519,
     "status": "ok",
     "timestamp": 1636334264175,
     "user": {
      "displayName": "박동규",
      "photoUrl": "https://lh3.googleusercontent.com/a-/AOh14GhpRCibv0_8j-H1SbFa_4yLDitwNUElwkvFYBL3Ppk=s64",
      "userId": "10745738943866733973"
     },
     "user_tz": -540
    },
    "id": "jJuUPcneHzrg",
    "outputId": "d28a7949-8c17-433d-8ffc-bb5c2ed309fb"
   },
   "outputs": [
    {
     "data": {
      "text/plain": [
       "array([0, 2, 4, 6, 8])"
      ]
     },
     "execution_count": 26,
     "metadata": {},
     "output_type": "execute_result"
    }
   ],
   "source": [
    "np.arange(0, 10, 2) # 2씩 증가하는 수열을 생성"
   ]
  },
  {
   "cell_type": "code",
   "execution_count": null,
   "metadata": {
    "colab": {
     "base_uri": "https://localhost:8080/"
    },
    "executionInfo": {
     "elapsed": 357,
     "status": "ok",
     "timestamp": 1636334277303,
     "user": {
      "displayName": "박동규",
      "photoUrl": "https://lh3.googleusercontent.com/a-/AOh14GhpRCibv0_8j-H1SbFa_4yLDitwNUElwkvFYBL3Ppk=s64",
      "userId": "10745738943866733973"
     },
     "user_tz": -540
    },
    "id": "3ASIBEj7H1tE",
    "outputId": "b526608f-d87c-4060-db0c-51bf1a6e4bce"
   },
   "outputs": [
    {
     "data": {
      "text/plain": [
       "array([0, 3, 6, 9])"
      ]
     },
     "execution_count": 27,
     "metadata": {},
     "output_type": "execute_result"
    }
   ],
   "source": [
    "np.arange(0, 10, 3) # 3씩 증가하는 수열을 생성"
   ]
  },
  {
   "cell_type": "code",
   "execution_count": null,
   "metadata": {
    "colab": {
     "base_uri": "https://localhost:8080/"
    },
    "executionInfo": {
     "elapsed": 330,
     "status": "ok",
     "timestamp": 1636334286692,
     "user": {
      "displayName": "박동규",
      "photoUrl": "https://lh3.googleusercontent.com/a-/AOh14GhpRCibv0_8j-H1SbFa_4yLDitwNUElwkvFYBL3Ppk=s64",
      "userId": "10745738943866733973"
     },
     "user_tz": -540
    },
    "id": "xCe6bqIdH485",
    "outputId": "6c0612c9-2d1b-4e0a-fc42-4ea4b5407033"
   },
   "outputs": [
    {
     "data": {
      "text/plain": [
       "array([0. , 0.2, 0.4, 0.6, 0.8])"
      ]
     },
     "execution_count": 28,
     "metadata": {},
     "output_type": "execute_result"
    }
   ],
   "source": [
    "np.arange(0.0, 1.0, 0.2) # 0.2씩 증가하는 수열을 생성"
   ]
  },
  {
   "cell_type": "code",
   "execution_count": null,
   "metadata": {
    "colab": {
     "base_uri": "https://localhost:8080/"
    },
    "executionInfo": {
     "elapsed": 342,
     "status": "ok",
     "timestamp": 1636334305526,
     "user": {
      "displayName": "박동규",
      "photoUrl": "https://lh3.googleusercontent.com/a-/AOh14GhpRCibv0_8j-H1SbFa_4yLDitwNUElwkvFYBL3Ppk=s64",
      "userId": "10745738943866733973"
     },
     "user_tz": -540
    },
    "id": "PEIS8M9LH7Qr",
    "outputId": "2eb2d11f-cc08-4fd4-b03f-ff4be90c469f"
   },
   "outputs": [
    {
     "data": {
      "text/plain": [
       "array([ 0. ,  2.5,  5. ,  7.5, 10. ])"
      ]
     },
     "execution_count": 29,
     "metadata": {},
     "output_type": "execute_result"
    }
   ],
   "source": [
    "np.linspace(0, 10, 5)"
   ]
  },
  {
   "cell_type": "code",
   "execution_count": null,
   "metadata": {
    "colab": {
     "base_uri": "https://localhost:8080/"
    },
    "executionInfo": {
     "elapsed": 492,
     "status": "ok",
     "timestamp": 1636334314458,
     "user": {
      "displayName": "박동규",
      "photoUrl": "https://lh3.googleusercontent.com/a-/AOh14GhpRCibv0_8j-H1SbFa_4yLDitwNUElwkvFYBL3Ppk=s64",
      "userId": "10745738943866733973"
     },
     "user_tz": -540
    },
    "id": "HvFm6beaH_5f",
    "outputId": "dbd4af80-aa8b-45b9-b844-17eb0b988761"
   },
   "outputs": [
    {
     "data": {
      "text/plain": [
       "array([ 0.        ,  3.33333333,  6.66666667, 10.        ])"
      ]
     },
     "execution_count": 30,
     "metadata": {},
     "output_type": "execute_result"
    }
   ],
   "source": [
    "np.linspace(0, 10, 4)"
   ]
  },
  {
   "cell_type": "code",
   "execution_count": null,
   "metadata": {
    "colab": {
     "base_uri": "https://localhost:8080/"
    },
    "executionInfo": {
     "elapsed": 372,
     "status": "ok",
     "timestamp": 1636334513394,
     "user": {
      "displayName": "박동규",
      "photoUrl": "https://lh3.googleusercontent.com/a-/AOh14GhpRCibv0_8j-H1SbFa_4yLDitwNUElwkvFYBL3Ppk=s64",
      "userId": "10745738943866733973"
     },
     "user_tz": -540
    },
    "id": "nkNlkpkqIB7e",
    "outputId": "46298a10-36d0-4df7-afe9-7be8ad37ae69"
   },
   "outputs": [
    {
     "data": {
      "text/plain": [
       "array([1.e+00, 1.e+01, 1.e+02, 1.e+03, 1.e+04, 1.e+05])"
      ]
     },
     "execution_count": 34,
     "metadata": {},
     "output_type": "execute_result"
    }
   ],
   "source": [
    "a = np.logspace(0, 5, 6).round(10) # 10^0에서 10^5까지 6개의 수를 \n",
    "a                                  # 로그 스케일 균일한 간격으로 생성한다."
   ]
  },
  {
   "cell_type": "code",
   "execution_count": null,
   "metadata": {
    "colab": {
     "base_uri": "https://localhost:8080/"
    },
    "executionInfo": {
     "elapsed": 330,
     "status": "ok",
     "timestamp": 1636334371098,
     "user": {
      "displayName": "박동규",
      "photoUrl": "https://lh3.googleusercontent.com/a-/AOh14GhpRCibv0_8j-H1SbFa_4yLDitwNUElwkvFYBL3Ppk=s64",
      "userId": "10745738943866733973"
     },
     "user_tz": -540
    },
    "id": "g_INFDPnIKmr",
    "outputId": "2401113c-c15e-4ec0-9826-4e900a19fe77"
   },
   "outputs": [
    {
     "data": {
      "text/plain": [
       "array([0., 1., 2., 3., 4., 5.])"
      ]
     },
     "execution_count": 33,
     "metadata": {},
     "output_type": "execute_result"
    }
   ],
   "source": [
    "np.log10(a) # a 배열에 로그를 취하면 0, 1, 2, 3, 4, 5가 생성됨"
   ]
  },
  {
   "cell_type": "markdown",
   "metadata": {
    "id": "mPrb8mTnTe0D"
   },
   "source": [
    "### 3.5 다차원 배열의 축과 삽입다차원 배열의 축과 삽입"
   ]
  },
  {
   "cell_type": "code",
   "execution_count": null,
   "metadata": {
    "colab": {
     "base_uri": "https://localhost:8080/"
    },
    "executionInfo": {
     "elapsed": 726,
     "status": "ok",
     "timestamp": 1636337430681,
     "user": {
      "displayName": "박동규",
      "photoUrl": "https://lh3.googleusercontent.com/a-/AOh14GhpRCibv0_8j-H1SbFa_4yLDitwNUElwkvFYBL3Ppk=s64",
      "userId": "10745738943866733973"
     },
     "user_tz": -540
    },
    "id": "GFAWnOFdIMzt",
    "outputId": "202a8f19-b022-473e-ef95-5712ee0bcd9e"
   },
   "outputs": [
    {
     "data": {
      "text/plain": [
       "array([1, 2, 3, 4])"
      ]
     },
     "execution_count": 35,
     "metadata": {},
     "output_type": "execute_result"
    }
   ],
   "source": [
    "a = np.array([1, 3, 4])\n",
    "np.insert(a, 1, 2)"
   ]
  },
  {
   "cell_type": "code",
   "execution_count": null,
   "metadata": {
    "colab": {
     "base_uri": "https://localhost:8080/"
    },
    "executionInfo": {
     "elapsed": 362,
     "status": "ok",
     "timestamp": 1636337446688,
     "user": {
      "displayName": "박동규",
      "photoUrl": "https://lh3.googleusercontent.com/a-/AOh14GhpRCibv0_8j-H1SbFa_4yLDitwNUElwkvFYBL3Ppk=s64",
      "userId": "10745738943866733973"
     },
     "user_tz": -540
    },
    "id": "ik4oYPriT6Wh",
    "outputId": "145cd8bb-3ed8-4ba4-a38f-cb91a5f0c0df"
   },
   "outputs": [
    {
     "data": {
      "text/plain": [
       "array([[1, 1],\n",
       "       [4, 4],\n",
       "       [2, 2],\n",
       "       [3, 3]])"
      ]
     },
     "execution_count": 36,
     "metadata": {},
     "output_type": "execute_result"
    }
   ],
   "source": [
    "b = np.array([[1, 1], [2, 2], [3, 3]])\n",
    "np.insert(b, 1, 4, axis = 0)"
   ]
  },
  {
   "cell_type": "code",
   "execution_count": null,
   "metadata": {
    "colab": {
     "base_uri": "https://localhost:8080/"
    },
    "executionInfo": {
     "elapsed": 366,
     "status": "ok",
     "timestamp": 1636337456199,
     "user": {
      "displayName": "박동규",
      "photoUrl": "https://lh3.googleusercontent.com/a-/AOh14GhpRCibv0_8j-H1SbFa_4yLDitwNUElwkvFYBL3Ppk=s64",
      "userId": "10745738943866733973"
     },
     "user_tz": -540
    },
    "id": "Br0Ah1gWT-pN",
    "outputId": "22d143b1-c97c-453b-a9e3-196f0f5012fb"
   },
   "outputs": [
    {
     "data": {
      "text/plain": [
       "array([[1, 4, 1],\n",
       "       [2, 4, 2],\n",
       "       [3, 4, 3]])"
      ]
     },
     "execution_count": 37,
     "metadata": {},
     "output_type": "execute_result"
    }
   ],
   "source": [
    "np.insert(b, 1, 4, axis = 1)"
   ]
  },
  {
   "cell_type": "code",
   "execution_count": null,
   "metadata": {
    "colab": {
     "base_uri": "https://localhost:8080/"
    },
    "executionInfo": {
     "elapsed": 391,
     "status": "ok",
     "timestamp": 1636337493373,
     "user": {
      "displayName": "박동규",
      "photoUrl": "https://lh3.googleusercontent.com/a-/AOh14GhpRCibv0_8j-H1SbFa_4yLDitwNUElwkvFYBL3Ppk=s64",
      "userId": "10745738943866733973"
     },
     "user_tz": -540
    },
    "id": "j6FhRo5FUA_D",
    "outputId": "773c4a47-1f4d-499f-d3be-1a2e92408ef3"
   },
   "outputs": [
    {
     "data": {
      "text/plain": [
       "array([[3, 2, 1],\n",
       "       [6, 5, 4]])"
      ]
     },
     "execution_count": 38,
     "metadata": {},
     "output_type": "execute_result"
    }
   ],
   "source": [
    "c = np.array([[1, 2, 3], [4, 5, 6]]) \n",
    "np.flip(c, axis=1)"
   ]
  },
  {
   "cell_type": "code",
   "execution_count": null,
   "metadata": {
    "colab": {
     "base_uri": "https://localhost:8080/"
    },
    "executionInfo": {
     "elapsed": 391,
     "status": "ok",
     "timestamp": 1636337508109,
     "user": {
      "displayName": "박동규",
      "photoUrl": "https://lh3.googleusercontent.com/a-/AOh14GhpRCibv0_8j-H1SbFa_4yLDitwNUElwkvFYBL3Ppk=s64",
      "userId": "10745738943866733973"
     },
     "user_tz": -540
    },
    "id": "ru9ZaS9UUKCy",
    "outputId": "b4aea8bc-d37f-48b5-930a-bc16f6f4a9bc"
   },
   "outputs": [
    {
     "data": {
      "text/plain": [
       "array([[4, 5, 6],\n",
       "       [1, 2, 3]])"
      ]
     },
     "execution_count": 39,
     "metadata": {},
     "output_type": "execute_result"
    }
   ],
   "source": [
    "np.flip(c, axis=0)"
   ]
  },
  {
   "cell_type": "markdown",
   "metadata": {
    "id": "gX4noNojUUH-"
   },
   "source": [
    "### 3.6 파이썬 리스트 vs 넘파이 다차원 배열"
   ]
  },
  {
   "cell_type": "code",
   "execution_count": null,
   "metadata": {
    "id": "YBTYzj9KUNaV"
   },
   "outputs": [],
   "source": [
    "store_a = [20, 10, 30] # 매장 A의 매출 : 파이썬 리스트로 표현 \n",
    "store_b = [70, 90, 70] # 매장 B의 매출 : 파이썬 리스트로 표현"
   ]
  },
  {
   "cell_type": "code",
   "execution_count": null,
   "metadata": {
    "colab": {
     "base_uri": "https://localhost:8080/"
    },
    "executionInfo": {
     "elapsed": 352,
     "status": "ok",
     "timestamp": 1636337583763,
     "user": {
      "displayName": "박동규",
      "photoUrl": "https://lh3.googleusercontent.com/a-/AOh14GhpRCibv0_8j-H1SbFa_4yLDitwNUElwkvFYBL3Ppk=s64",
      "userId": "10745738943866733973"
     },
     "user_tz": -540
    },
    "id": "mYExscvrUYxT",
    "outputId": "c68833df-63c7-47c5-cfd8-9433586faf9a"
   },
   "outputs": [
    {
     "data": {
      "text/plain": [
       "[20, 10, 30, 70, 90, 70]"
      ]
     },
     "execution_count": 42,
     "metadata": {},
     "output_type": "execute_result"
    }
   ],
   "source": [
    "list_sum = store_a + store_b # 파이썬 리스트의 더하기 연산 \n",
    "list_sum"
   ]
  },
  {
   "cell_type": "code",
   "execution_count": null,
   "metadata": {
    "id": "8OURh5YkUgIh"
   },
   "outputs": [],
   "source": [
    "np_store_a = np.array(store_a) # store_a 리스트를 넘파이 배열로 변환 \n",
    "np_store_b = np.array(store_b) # store_b 리스트를 넘파이 배열로 변환"
   ]
  },
  {
   "cell_type": "code",
   "execution_count": null,
   "metadata": {
    "colab": {
     "base_uri": "https://localhost:8080/"
    },
    "executionInfo": {
     "elapsed": 373,
     "status": "ok",
     "timestamp": 1636337614618,
     "user": {
      "displayName": "박동규",
      "photoUrl": "https://lh3.googleusercontent.com/a-/AOh14GhpRCibv0_8j-H1SbFa_4yLDitwNUElwkvFYBL3Ppk=s64",
      "userId": "10745738943866733973"
     },
     "user_tz": -540
    },
    "id": "diiw0zo5UiG-",
    "outputId": "c16514a1-e370-416e-a6d6-2b397b6935bf"
   },
   "outputs": [
    {
     "data": {
      "text/plain": [
       "array([ 90, 100, 100])"
      ]
     },
     "execution_count": 46,
     "metadata": {},
     "output_type": "execute_result"
    }
   ],
   "source": [
    "array_sum = np_store_a + np_store_b # 넘파이 배열의 덧셈 결과를 확인하자 \n",
    "array_sum"
   ]
  },
  {
   "cell_type": "markdown",
   "metadata": {
    "id": "g-suwt9lUsej"
   },
   "source": [
    "### 3.7 넘파이 배열의 인덱싱과 슬라이싱슬라이싱"
   ]
  },
  {
   "cell_type": "code",
   "execution_count": null,
   "metadata": {
    "id": "AUUax9WsUmZj"
   },
   "outputs": [],
   "source": [
    "arr_2d = np.array([[1, 2, 3], [4, 5, 6],\n",
    "                    [7, 8, 9], [0, 1, 2]])"
   ]
  },
  {
   "cell_type": "code",
   "execution_count": null,
   "metadata": {
    "colab": {
     "base_uri": "https://localhost:8080/"
    },
    "executionInfo": {
     "elapsed": 331,
     "status": "ok",
     "timestamp": 1636337694560,
     "user": {
      "displayName": "박동규",
      "photoUrl": "https://lh3.googleusercontent.com/a-/AOh14GhpRCibv0_8j-H1SbFa_4yLDitwNUElwkvFYBL3Ppk=s64",
      "userId": "10745738943866733973"
     },
     "user_tz": -540
    },
    "id": "wclxD2lZU0Uz",
    "outputId": "9e21dcb9-a531-4197-a49b-91e956e650ad"
   },
   "outputs": [
    {
     "name": "stdout",
     "output_type": "stream",
     "text": [
      "1\n",
      "[7 8 9]\n"
     ]
    }
   ],
   "source": [
    "print(arr_2d[0][0])\n",
    "print(arr_2d[2])"
   ]
  },
  {
   "cell_type": "code",
   "execution_count": null,
   "metadata": {
    "colab": {
     "base_uri": "https://localhost:8080/"
    },
    "executionInfo": {
     "elapsed": 347,
     "status": "ok",
     "timestamp": 1636337712019,
     "user": {
      "displayName": "박동규",
      "photoUrl": "https://lh3.googleusercontent.com/a-/AOh14GhpRCibv0_8j-H1SbFa_4yLDitwNUElwkvFYBL3Ppk=s64",
      "userId": "10745738943866733973"
     },
     "user_tz": -540
    },
    "id": "BaXeFZvHU7Ph",
    "outputId": "6a69f8ce-9bf6-4321-eb8e-27aa02819ba5"
   },
   "outputs": [
    {
     "data": {
      "text/plain": [
       "array([[4, 5, 6],\n",
       "       [7, 8, 9]])"
      ]
     },
     "execution_count": 52,
     "metadata": {},
     "output_type": "execute_result"
    }
   ],
   "source": [
    "arr_2d[1:][0:2]"
   ]
  },
  {
   "cell_type": "code",
   "execution_count": null,
   "metadata": {
    "colab": {
     "base_uri": "https://localhost:8080/"
    },
    "executionInfo": {
     "elapsed": 375,
     "status": "ok",
     "timestamp": 1636337751146,
     "user": {
      "displayName": "박동규",
      "photoUrl": "https://lh3.googleusercontent.com/a-/AOh14GhpRCibv0_8j-H1SbFa_4yLDitwNUElwkvFYBL3Ppk=s64",
      "userId": "10745738943866733973"
     },
     "user_tz": -540
    },
    "id": "wDuE5_CaU_gp",
    "outputId": "f180aaa2-4c56-4052-dc5a-054569377b0f"
   },
   "outputs": [
    {
     "name": "stdout",
     "output_type": "stream",
     "text": [
      "1 1\n",
      "2 2\n",
      "3 3\n",
      "4 4\n",
      "5 5\n",
      "6 6\n",
      "7 7\n",
      "8 8\n",
      "9 9\n",
      "0 0\n",
      "1 1\n",
      "2 2\n"
     ]
    }
   ],
   "source": [
    "length0, length1 = arr_2d.shape\n",
    "for i in range(length0):\n",
    "    for j in range(length1): \n",
    "        print(arr_2d[i][j], arr_2d[i, j])"
   ]
  },
  {
   "cell_type": "code",
   "execution_count": null,
   "metadata": {
    "colab": {
     "base_uri": "https://localhost:8080/"
    },
    "executionInfo": {
     "elapsed": 388,
     "status": "ok",
     "timestamp": 1636337775092,
     "user": {
      "displayName": "박동규",
      "photoUrl": "https://lh3.googleusercontent.com/a-/AOh14GhpRCibv0_8j-H1SbFa_4yLDitwNUElwkvFYBL3Ppk=s64",
      "userId": "10745738943866733973"
     },
     "user_tz": -540
    },
    "id": "9FhyBt0-VJDW",
    "outputId": "24481011-dd0a-45a3-be7f-e86128a1a973"
   },
   "outputs": [
    {
     "data": {
      "text/plain": [
       "(30, 10)"
      ]
     },
     "execution_count": 54,
     "metadata": {},
     "output_type": "execute_result"
    }
   ],
   "source": [
    "a = np.array([10, 20, 30])\n",
    "a.max(), a.min()           # a 배열원소 중 최대값, 최소값을 출력함"
   ]
  },
  {
   "cell_type": "code",
   "execution_count": null,
   "metadata": {
    "colab": {
     "base_uri": "https://localhost:8080/"
    },
    "executionInfo": {
     "elapsed": 380,
     "status": "ok",
     "timestamp": 1636337783758,
     "user": {
      "displayName": "박동규",
      "photoUrl": "https://lh3.googleusercontent.com/a-/AOh14GhpRCibv0_8j-H1SbFa_4yLDitwNUElwkvFYBL3Ppk=s64",
      "userId": "10745738943866733973"
     },
     "user_tz": -540
    },
    "id": "Oi6YysvvVO4A",
    "outputId": "2ec23442-5c05-47ee-be36-10f9e8d2640c"
   },
   "outputs": [
    {
     "data": {
      "text/plain": [
       "20.0"
      ]
     },
     "execution_count": 55,
     "metadata": {},
     "output_type": "execute_result"
    }
   ],
   "source": [
    "a.mean()"
   ]
  },
  {
   "cell_type": "code",
   "execution_count": null,
   "metadata": {
    "colab": {
     "base_uri": "https://localhost:8080/"
    },
    "executionInfo": {
     "elapsed": 349,
     "status": "ok",
     "timestamp": 1636337794018,
     "user": {
      "displayName": "박동규",
      "photoUrl": "https://lh3.googleusercontent.com/a-/AOh14GhpRCibv0_8j-H1SbFa_4yLDitwNUElwkvFYBL3Ppk=s64",
      "userId": "10745738943866733973"
     },
     "user_tz": -540
    },
    "id": "zcIBdzgKVQ3d",
    "outputId": "46fd38b0-2549-4180-bd06-7aa981a1122f"
   },
   "outputs": [
    {
     "data": {
      "text/plain": [
       "array([10., 20., 30.])"
      ]
     },
     "execution_count": 56,
     "metadata": {},
     "output_type": "execute_result"
    }
   ],
   "source": [
    "a.astype(np.float64)"
   ]
  },
  {
   "cell_type": "code",
   "execution_count": null,
   "metadata": {
    "colab": {
     "base_uri": "https://localhost:8080/"
    },
    "executionInfo": {
     "elapsed": 424,
     "status": "ok",
     "timestamp": 1636337922263,
     "user": {
      "displayName": "박동규",
      "photoUrl": "https://lh3.googleusercontent.com/a-/AOh14GhpRCibv0_8j-H1SbFa_4yLDitwNUElwkvFYBL3Ppk=s64",
      "userId": "10745738943866733973"
     },
     "user_tz": -540
    },
    "id": "W8wIccj9VTVe",
    "outputId": "b485cac8-4c08-4bed-fb99-8e1901614219"
   },
   "outputs": [
    {
     "data": {
      "text/plain": [
       "array([1, 1, 2, 2, 3, 3])"
      ]
     },
     "execution_count": 57,
     "metadata": {},
     "output_type": "execute_result"
    }
   ],
   "source": [
    "b = np.array([[1, 1], [2, 2], [3, 3]]) \n",
    "b.flatten() # 넘파이 다차원 배열의 평탄화 메소드"
   ]
  },
  {
   "cell_type": "code",
   "execution_count": null,
   "metadata": {
    "colab": {
     "base_uri": "https://localhost:8080/"
    },
    "executionInfo": {
     "elapsed": 431,
     "status": "ok",
     "timestamp": 1636337946792,
     "user": {
      "displayName": "박동규",
      "photoUrl": "https://lh3.googleusercontent.com/a-/AOh14GhpRCibv0_8j-H1SbFa_4yLDitwNUElwkvFYBL3Ppk=s64",
      "userId": "10745738943866733973"
     },
     "user_tz": -540
    },
    "id": "CmVl1Tz7VyyB",
    "outputId": "1947a4e5-5e17-4cf0-b6aa-6d82c7c3e629"
   },
   "outputs": [
    {
     "data": {
      "text/plain": [
       "array([[1, 2, 3],\n",
       "       [1, 2, 3]])"
      ]
     },
     "execution_count": 59,
     "metadata": {},
     "output_type": "execute_result"
    }
   ],
   "source": [
    "b = np.array([[1, 1], [2, 2], [3, 3]])\n",
    "b.T"
   ]
  },
  {
   "cell_type": "code",
   "execution_count": null,
   "metadata": {
    "colab": {
     "base_uri": "https://localhost:8080/"
    },
    "executionInfo": {
     "elapsed": 341,
     "status": "ok",
     "timestamp": 1636337955040,
     "user": {
      "displayName": "박동규",
      "photoUrl": "https://lh3.googleusercontent.com/a-/AOh14GhpRCibv0_8j-H1SbFa_4yLDitwNUElwkvFYBL3Ppk=s64",
      "userId": "10745738943866733973"
     },
     "user_tz": -540
    },
    "id": "BD5ujkzoV4iV",
    "outputId": "2d3fd268-3307-4553-f1e4-8cf61918c845"
   },
   "outputs": [
    {
     "data": {
      "text/plain": [
       "array([99, 69, 55, 35, 24, 19])"
      ]
     },
     "execution_count": 60,
     "metadata": {},
     "output_type": "execute_result"
    }
   ],
   "source": [
    "c = np.array([35, 24, 55, 69, 19, 99]) \n",
    "c.sort() # 배열의 정렬(오름차순) \n",
    "c[::-1] # 내림차순 정렬"
   ]
  },
  {
   "cell_type": "code",
   "execution_count": null,
   "metadata": {
    "colab": {
     "base_uri": "https://localhost:8080/"
    },
    "executionInfo": {
     "elapsed": 387,
     "status": "ok",
     "timestamp": 1636337994374,
     "user": {
      "displayName": "박동규",
      "photoUrl": "https://lh3.googleusercontent.com/a-/AOh14GhpRCibv0_8j-H1SbFa_4yLDitwNUElwkvFYBL3Ppk=s64",
      "userId": "10745738943866733973"
     },
     "user_tz": -540
    },
    "id": "etHXWS3oV6vo",
    "outputId": "67b4ec5b-ab47-4d82-8ade-ec339df4bff1"
   },
   "outputs": [
    {
     "data": {
      "text/plain": [
       "array([[24, 35, 55],\n",
       "       [ 9, 19, 69],\n",
       "       [ 1,  4, 11]])"
      ]
     },
     "execution_count": 61,
     "metadata": {},
     "output_type": "execute_result"
    }
   ],
   "source": [
    "d = np.array([[35, 24, 55], [69, 19, 9], [4, 1, 11]]) \n",
    "d.sort()         # 배열의 정렬, 디폴트 axis는 1\n",
    "d"
   ]
  },
  {
   "cell_type": "code",
   "execution_count": null,
   "metadata": {
    "colab": {
     "base_uri": "https://localhost:8080/"
    },
    "executionInfo": {
     "elapsed": 473,
     "status": "ok",
     "timestamp": 1636338015128,
     "user": {
      "displayName": "박동규",
      "photoUrl": "https://lh3.googleusercontent.com/a-/AOh14GhpRCibv0_8j-H1SbFa_4yLDitwNUElwkvFYBL3Ppk=s64",
      "userId": "10745738943866733973"
     },
     "user_tz": -540
    },
    "id": "6-oKe10QWEUr",
    "outputId": "b8a7e26c-f38f-4c35-a401-71ea2754766d"
   },
   "outputs": [
    {
     "data": {
      "text/plain": [
       "array([[ 4,  1,  9],\n",
       "       [35, 19, 11],\n",
       "       [69, 24, 55]])"
      ]
     },
     "execution_count": 62,
     "metadata": {},
     "output_type": "execute_result"
    }
   ],
   "source": [
    "d = np.array([[35, 24, 55], [69, 19, 9], [4, 1, 11]]) \n",
    "d.sort(axis=0)   # axis=0 방향 정렬\n",
    "d"
   ]
  },
  {
   "cell_type": "markdown",
   "metadata": {
    "id": "nj-Bex2CWNG_"
   },
   "source": [
    "### 3.9 다차원 배열을 위한 append() 함수와 행렬 곱셈"
   ]
  },
  {
   "cell_type": "code",
   "execution_count": null,
   "metadata": {
    "colab": {
     "base_uri": "https://localhost:8080/"
    },
    "executionInfo": {
     "elapsed": 354,
     "status": "ok",
     "timestamp": 1636338056166,
     "user": {
      "displayName": "박동규",
      "photoUrl": "https://lh3.googleusercontent.com/a-/AOh14GhpRCibv0_8j-H1SbFa_4yLDitwNUElwkvFYBL3Ppk=s64",
      "userId": "10745738943866733973"
     },
     "user_tz": -540
    },
    "id": "9AMqbg-OWQtB",
    "outputId": "d1a239a2-0d88-48c9-b1ae-b335eadc176b"
   },
   "outputs": [
    {
     "data": {
      "text/plain": [
       "array([1, 2, 3, 4, 5, 6, 7, 8, 9])"
      ]
     },
     "execution_count": 63,
     "metadata": {},
     "output_type": "execute_result"
    }
   ],
   "source": [
    "a = np.array([1, 2, 3])\n",
    "b = np.array([[4, 5, 6], [7, 8, 9]])\n",
    "np.append(a, b)"
   ]
  },
  {
   "cell_type": "code",
   "execution_count": null,
   "metadata": {
    "colab": {
     "base_uri": "https://localhost:8080/"
    },
    "executionInfo": {
     "elapsed": 516,
     "status": "ok",
     "timestamp": 1636338066838,
     "user": {
      "displayName": "박동규",
      "photoUrl": "https://lh3.googleusercontent.com/a-/AOh14GhpRCibv0_8j-H1SbFa_4yLDitwNUElwkvFYBL3Ppk=s64",
      "userId": "10745738943866733973"
     },
     "user_tz": -540
    },
    "id": "LtoHNDkqWTiE",
    "outputId": "9da4c64f-db33-47d9-b017-332f866f6715"
   },
   "outputs": [
    {
     "data": {
      "text/plain": [
       "array([[1, 2, 3],\n",
       "       [4, 5, 6],\n",
       "       [7, 8, 9]])"
      ]
     },
     "execution_count": 64,
     "metadata": {},
     "output_type": "execute_result"
    }
   ],
   "source": [
    "np.append([a], b, axis = 0) # [a]를 통해 2차원 배열로 만들어야 함"
   ]
  },
  {
   "cell_type": "code",
   "execution_count": null,
   "metadata": {
    "colab": {
     "base_uri": "https://localhost:8080/"
    },
    "executionInfo": {
     "elapsed": 362,
     "status": "ok",
     "timestamp": 1636338104593,
     "user": {
      "displayName": "박동규",
      "photoUrl": "https://lh3.googleusercontent.com/a-/AOh14GhpRCibv0_8j-H1SbFa_4yLDitwNUElwkvFYBL3Ppk=s64",
      "userId": "10745738943866733973"
     },
     "user_tz": -540
    },
    "id": "EVLTDNWEWJYm",
    "outputId": "b6f2b143-a67e-4b70-945f-eb24c636710b"
   },
   "outputs": [
    {
     "data": {
      "text/plain": [
       "array([[ 10,  40],\n",
       "       [ 90, 160]])"
      ]
     },
     "execution_count": 65,
     "metadata": {},
     "output_type": "execute_result"
    }
   ],
   "source": [
    "a = np.array([[1, 2], [3, 4]])     # 2차원 배열 a\n",
    "b = np.array([[10, 20], [30, 40]]) # 2차원 배열 b\n",
    "a * b # 2차원 배열의 곱하기 연산 - 원소간의 곱셈"
   ]
  },
  {
   "cell_type": "code",
   "execution_count": null,
   "metadata": {
    "colab": {
     "base_uri": "https://localhost:8080/"
    },
    "executionInfo": {
     "elapsed": 371,
     "status": "ok",
     "timestamp": 1636338122461,
     "user": {
      "displayName": "박동규",
      "photoUrl": "https://lh3.googleusercontent.com/a-/AOh14GhpRCibv0_8j-H1SbFa_4yLDitwNUElwkvFYBL3Ppk=s64",
      "userId": "10745738943866733973"
     },
     "user_tz": -540
    },
    "id": "P_lRXoyrWfUd",
    "outputId": "be68ecdb-d432-44b1-8a0f-352e290ea4a3"
   },
   "outputs": [
    {
     "data": {
      "text/plain": [
       "array([[ 70, 100],\n",
       "       [150, 220]])"
      ]
     },
     "execution_count": 66,
     "metadata": {},
     "output_type": "execute_result"
    }
   ],
   "source": [
    "np.matmul(a, b)  # 2차원 배열 a, b의 행렬곱, a @ b와 같다"
   ]
  },
  {
   "cell_type": "code",
   "execution_count": null,
   "metadata": {
    "colab": {
     "base_uri": "https://localhost:8080/"
    },
    "executionInfo": {
     "elapsed": 547,
     "status": "ok",
     "timestamp": 1636338154813,
     "user": {
      "displayName": "박동규",
      "photoUrl": "https://lh3.googleusercontent.com/a-/AOh14GhpRCibv0_8j-H1SbFa_4yLDitwNUElwkvFYBL3Ppk=s64",
      "userId": "10745738943866733973"
     },
     "user_tz": -540
    },
    "id": "E7SWBuS7WjtA",
    "outputId": "10f5d21c-911e-4f16-9d58-fe38d793888a"
   },
   "outputs": [
    {
     "data": {
      "text/plain": [
       "array([[ 70, 100],\n",
       "       [150, 220]])"
      ]
     },
     "execution_count": 68,
     "metadata": {},
     "output_type": "execute_result"
    }
   ],
   "source": [
    "a @ b            # 2차원 배열 a, b의 행렬곱, 위의 결과와 동일함"
   ]
  },
  {
   "cell_type": "markdown",
   "metadata": {
    "id": "pjAOmmjEWvVf"
   },
   "source": [
    "## 3.10 과학자들이 사랑하는 수: 난수"
   ]
  },
  {
   "cell_type": "code",
   "execution_count": null,
   "metadata": {
    "colab": {
     "base_uri": "https://localhost:8080/"
    },
    "executionInfo": {
     "elapsed": 363,
     "status": "ok",
     "timestamp": 1636338235847,
     "user": {
      "displayName": "박동규",
      "photoUrl": "https://lh3.googleusercontent.com/a-/AOh14GhpRCibv0_8j-H1SbFa_4yLDitwNUElwkvFYBL3Ppk=s64",
      "userId": "10745738943866733973"
     },
     "user_tz": -540
    },
    "id": "cHBQNxCmWydS",
    "outputId": "414efea2-cd70-4978-8395-b0d36c27a31a"
   },
   "outputs": [
    {
     "name": "stdout",
     "output_type": "stream",
     "text": [
      "829870797\n",
      "1533044610\n"
     ]
    }
   ],
   "source": [
    "def pseudo_rand(x): \n",
    "    a = 1103515245\n",
    "    b = 12345\n",
    "    m = 2 ** 31\n",
    "    new_x = (a * x + b) % m \n",
    "    return new_x\n",
    "\n",
    "seed = 100 # 초기값을 임의로 설정하자\n",
    "\n",
    "x = pseudo_rand(seed) # seed를 입력으로 하여 새로운 x를 만들자 \n",
    "print(x)\n",
    "x = pseudo_rand(x) # x_n을 입력으로 하여 새로운 x_(n+1)을 만들자 \n",
    "print(x)"
   ]
  },
  {
   "cell_type": "code",
   "execution_count": null,
   "metadata": {
    "colab": {
     "base_uri": "https://localhost:8080/"
    },
    "executionInfo": {
     "elapsed": 367,
     "status": "ok",
     "timestamp": 1636338249732,
     "user": {
      "displayName": "박동규",
      "photoUrl": "https://lh3.googleusercontent.com/a-/AOh14GhpRCibv0_8j-H1SbFa_4yLDitwNUElwkvFYBL3Ppk=s64",
      "userId": "10745738943866733973"
     },
     "user_tz": -540
    },
    "id": "ON8xkzirWrkj",
    "outputId": "049c1619-69fb-483e-e083-78049bfc0908"
   },
   "outputs": [
    {
     "data": {
      "text/plain": [
       "array([167, 181, 159, 163, 186, 180, 173, 163, 189, 177])"
      ]
     },
     "execution_count": 72,
     "metadata": {},
     "output_type": "execute_result"
    }
   ],
   "source": [
    "np.random.randint(150, 191, size=10)"
   ]
  },
  {
   "cell_type": "markdown",
   "metadata": {
    "id": "4-4l9MBFXEEw"
   },
   "source": [
    "### 3.11 다양한 난수 만들기 함수를 살펴보자"
   ]
  },
  {
   "cell_type": "code",
   "execution_count": null,
   "metadata": {
    "colab": {
     "base_uri": "https://localhost:8080/"
    },
    "executionInfo": {
     "elapsed": 395,
     "status": "ok",
     "timestamp": 1636338386553,
     "user": {
      "displayName": "박동규",
      "photoUrl": "https://lh3.googleusercontent.com/a-/AOh14GhpRCibv0_8j-H1SbFa_4yLDitwNUElwkvFYBL3Ppk=s64",
      "userId": "10745738943866733973"
     },
     "user_tz": -540
    },
    "id": "nkVd9mfyXHix",
    "outputId": "dfee7c16-7540-4906-b31d-a89b63f0b1d2"
   },
   "outputs": [
    {
     "data": {
      "text/plain": [
       "array([169.96714153, 163.61735699, 171.47688538, 180.23029856,\n",
       "       162.65846625])"
      ]
     },
     "execution_count": 83,
     "metadata": {},
     "output_type": "execute_result"
    }
   ],
   "source": [
    " rnd = np.random.randn(5) * 10 + 165 # 평균값이 165,표준편차가 10인 값 생성 \n",
    " rnd"
   ]
  },
  {
   "cell_type": "code",
   "execution_count": null,
   "metadata": {
    "colab": {
     "base_uri": "https://localhost:8080/"
    },
    "executionInfo": {
     "elapsed": 365,
     "status": "ok",
     "timestamp": 1636338303104,
     "user": {
      "displayName": "박동규",
      "photoUrl": "https://lh3.googleusercontent.com/a-/AOh14GhpRCibv0_8j-H1SbFa_4yLDitwNUElwkvFYBL3Ppk=s64",
      "userId": "10745738943866733973"
     },
     "user_tz": -540
    },
    "id": "6F0StIzMXCqH",
    "outputId": "7257057a-b27e-429b-c493-25cbb33b492f"
   },
   "outputs": [
    {
     "data": {
      "text/plain": [
       "array([159.14, 154.02, 170.87, 156.35, 169.29])"
      ]
     },
     "execution_count": 75,
     "metadata": {},
     "output_type": "execute_result"
    }
   ],
   "source": [
    "rnd.round(2)       # 소수점 아래 둘째 자리까지 값으로 변환"
   ]
  },
  {
   "cell_type": "code",
   "execution_count": null,
   "metadata": {
    "colab": {
     "base_uri": "https://localhost:8080/"
    },
    "executionInfo": {
     "elapsed": 7,
     "status": "ok",
     "timestamp": 1636338303641,
     "user": {
      "displayName": "박동규",
      "photoUrl": "https://lh3.googleusercontent.com/a-/AOh14GhpRCibv0_8j-H1SbFa_4yLDitwNUElwkvFYBL3Ppk=s64",
      "userId": "10745738943866733973"
     },
     "user_tz": -540
    },
    "id": "OO71An8JXMpx",
    "outputId": "8cdc4d44-5f88-4afe-aaa7-527d89e88d2b"
   },
   "outputs": [
    {
     "data": {
      "text/plain": [
       "array([159, 154, 170, 156, 169])"
      ]
     },
     "execution_count": 76,
     "metadata": {},
     "output_type": "execute_result"
    }
   ],
   "source": [
    "rnd.astype(int)    # 정수형 자료형으로 변환"
   ]
  },
  {
   "cell_type": "code",
   "execution_count": null,
   "metadata": {
    "id": "UTQ4f2b9WpTN"
   },
   "outputs": [],
   "source": [
    "np.random.seed(42) # 씨드 값이 특정될 경우 매번 동일한 난수의 열이 생성됨"
   ]
  },
  {
   "cell_type": "code",
   "execution_count": null,
   "metadata": {
    "colab": {
     "base_uri": "https://localhost:8080/"
    },
    "executionInfo": {
     "elapsed": 363,
     "status": "ok",
     "timestamp": 1636338398862,
     "user": {
      "displayName": "박동규",
      "photoUrl": "https://lh3.googleusercontent.com/a-/AOh14GhpRCibv0_8j-H1SbFa_4yLDitwNUElwkvFYBL3Ppk=s64",
      "userId": "10745738943866733973"
     },
     "user_tz": -540
    },
    "id": "gyKMUKoaXWsc",
    "outputId": "7801c395-6ae6-4265-fb90-17bc92e0e5b5"
   },
   "outputs": [
    {
     "data": {
      "text/plain": [
       "array([[169.97, 163.62, 171.48, 180.23],\n",
       "       [162.66, 162.66, 180.79, 172.67],\n",
       "       [160.31, 170.43, 160.37, 160.34]])"
      ]
     },
     "execution_count": 85,
     "metadata": {},
     "output_type": "execute_result"
    }
   ],
   "source": [
    "nums = np.random.normal(loc=165, scale=10, size=(3, 4)).round(2)\n",
    "nums"
   ]
  },
  {
   "cell_type": "code",
   "execution_count": null,
   "metadata": {
    "colab": {
     "base_uri": "https://localhost:8080/"
    },
    "executionInfo": {
     "elapsed": 649,
     "status": "ok",
     "timestamp": 1636338438139,
     "user": {
      "displayName": "박동규",
      "photoUrl": "https://lh3.googleusercontent.com/a-/AOh14GhpRCibv0_8j-H1SbFa_4yLDitwNUElwkvFYBL3Ppk=s64",
      "userId": "10745738943866733973"
     },
     "user_tz": -540
    },
    "id": "UUSCc4a3XYpl",
    "outputId": "915f5b8d-2e4a-4fb7-e378-6a9a52612012"
   },
   "outputs": [
    {
     "data": {
      "text/plain": [
       "array([1, 7, 6, 2, 8, 0, 3, 4, 5, 9])"
      ]
     },
     "execution_count": 86,
     "metadata": {},
     "output_type": "execute_result"
    }
   ],
   "source": [
    "a = np.arange(10)    # 0, 1, 2, 3, 4, 5, 6, 7, 8, 9 값을 생성 \n",
    "np.random.shuffle(a)\n",
    "a                    # a에는 순서가 뒤섞인 값이 들어있다"
   ]
  },
  {
   "cell_type": "code",
   "execution_count": null,
   "metadata": {
    "colab": {
     "base_uri": "https://localhost:8080/"
    },
    "executionInfo": {
     "elapsed": 351,
     "status": "ok",
     "timestamp": 1636338446579,
     "user": {
      "displayName": "박동규",
      "photoUrl": "https://lh3.googleusercontent.com/a-/AOh14GhpRCibv0_8j-H1SbFa_4yLDitwNUElwkvFYBL3Ppk=s64",
      "userId": "10745738943866733973"
     },
     "user_tz": -540
    },
    "id": "wFLsNHUNXwp7",
    "outputId": "9b4e0ee7-1b64-49a9-bd39-bf090fd777ea"
   },
   "outputs": [
    {
     "data": {
      "text/plain": [
       "array([ 2, 10,  6,  8,  4])"
      ]
     },
     "execution_count": 87,
     "metadata": {},
     "output_type": "execute_result"
    }
   ],
   "source": [
    "np.random.permutation([2, 4, 6, 8, 10])"
   ]
  },
  {
   "cell_type": "markdown",
   "metadata": {
    "id": "s6SLS8RtX11e"
   },
   "source": [
    "### 3.12 넘파이 스타일의 슬라이싱과 논리 인덱싱"
   ]
  },
  {
   "cell_type": "code",
   "execution_count": null,
   "metadata": {
    "colab": {
     "base_uri": "https://localhost:8080/"
    },
    "executionInfo": {
     "elapsed": 385,
     "status": "ok",
     "timestamp": 1636338501849,
     "user": {
      "displayName": "박동규",
      "photoUrl": "https://lh3.googleusercontent.com/a-/AOh14GhpRCibv0_8j-H1SbFa_4yLDitwNUElwkvFYBL3Ppk=s64",
      "userId": "10745738943866733973"
     },
     "user_tz": -540
    },
    "id": "YCKZlu2yX5jB",
    "outputId": "88fb17ec-4631-44ec-96a0-93f3cbb9f41c"
   },
   "outputs": [
    {
     "data": {
      "text/plain": [
       "array([[4, 5],\n",
       "       [7, 8],\n",
       "       [0, 1]])"
      ]
     },
     "execution_count": 89,
     "metadata": {},
     "output_type": "execute_result"
    }
   ],
   "source": [
    "arr_2d = np.array([[1, 2, 3],\n",
    "                   [4, 5, 6],\n",
    "                   [7, 8, 9],\n",
    "                   [0, 1, 2]])\n",
    "arr_2d[1: , 0:2]"
   ]
  },
  {
   "cell_type": "code",
   "execution_count": null,
   "metadata": {
    "colab": {
     "base_uri": "https://localhost:8080/"
    },
    "executionInfo": {
     "elapsed": 365,
     "status": "ok",
     "timestamp": 1636338517366,
     "user": {
      "displayName": "박동규",
      "photoUrl": "https://lh3.googleusercontent.com/a-/AOh14GhpRCibv0_8j-H1SbFa_4yLDitwNUElwkvFYBL3Ppk=s64",
      "userId": "10745738943866733973"
     },
     "user_tz": -540
    },
    "id": "nw8TK81DXy2U",
    "outputId": "842a6a99-5769-41b9-b473-ffcee97ac518"
   },
   "outputs": [
    {
     "data": {
      "text/plain": [
       "array([[False,  True, False,  True],\n",
       "       [False,  True, False,  True],\n",
       "       [False,  True, False,  True],\n",
       "       [False,  True, False,  True]])"
      ]
     },
     "execution_count": 90,
     "metadata": {},
     "output_type": "execute_result"
    }
   ],
   "source": [
    "np_array = np.array([[1,2,3,4], [5,6,7,8], [9,10,11,12], [13,14,15,16]])\n",
    "np_array % 2 == 0"
   ]
  },
  {
   "cell_type": "code",
   "execution_count": null,
   "metadata": {
    "colab": {
     "base_uri": "https://localhost:8080/"
    },
    "executionInfo": {
     "elapsed": 6,
     "status": "ok",
     "timestamp": 1636338528346,
     "user": {
      "displayName": "박동규",
      "photoUrl": "https://lh3.googleusercontent.com/a-/AOh14GhpRCibv0_8j-H1SbFa_4yLDitwNUElwkvFYBL3Ppk=s64",
      "userId": "10745738943866733973"
     },
     "user_tz": -540
    },
    "id": "521_RJVvYD_Y",
    "outputId": "2139e686-ab3d-4c26-8538-49c930793cb7"
   },
   "outputs": [
    {
     "data": {
      "text/plain": [
       "array([ 2,  4,  6,  8, 10, 12, 14, 16])"
      ]
     },
     "execution_count": 92,
     "metadata": {},
     "output_type": "execute_result"
    }
   ],
   "source": [
    "np_array[ np_array % 2 == 0 ]"
   ]
  },
  {
   "cell_type": "markdown",
   "metadata": {
    "id": "N46lyfKcYMEa"
   },
   "source": [
    "### 3.14 벡터화 연산의 성능을 측정해 보자"
   ]
  },
  {
   "cell_type": "code",
   "execution_count": null,
   "metadata": {
    "id": "kW0jW-M5YO5y"
   },
   "outputs": [],
   "source": [
    "import numpy as np\n",
    "import time        # 수행시간 측정을 위하여 time 모듈을 가져온다\n",
    "\n",
    "arr_a = np.random.rand(100)\n",
    "arr_b = np.random.rand(100)\n",
    "result = np.zeros(100)"
   ]
  },
  {
   "cell_type": "code",
   "execution_count": null,
   "metadata": {
    "colab": {
     "base_uri": "https://localhost:8080/"
    },
    "executionInfo": {
     "elapsed": 378,
     "status": "ok",
     "timestamp": 1636339054591,
     "user": {
      "displayName": "박동규",
      "photoUrl": "https://lh3.googleusercontent.com/a-/AOh14GhpRCibv0_8j-H1SbFa_4yLDitwNUElwkvFYBL3Ppk=s64",
      "userId": "10745738943866733973"
     },
     "user_tz": -540
    },
    "id": "ad-XOOV7YSs4",
    "outputId": "620986f5-1eb6-4853-dee3-cc1a1e83895b"
   },
   "outputs": [
    {
     "name": "stdout",
     "output_type": "stream",
     "text": [
      "소요시간:  0.00024008750915527344\n"
     ]
    }
   ],
   "source": [
    "start = time.time()\n",
    "for i in range(len(arr_a)):    # 명시적인 작업 지시 : C 스타일\n",
    "    result[i] = arr_a[i] * arr_b[i]\n",
    "end = time.time() \n",
    "print('소요시간: ', end - start)"
   ]
  },
  {
   "cell_type": "code",
   "execution_count": null,
   "metadata": {
    "colab": {
     "base_uri": "https://localhost:8080/"
    },
    "executionInfo": {
     "elapsed": 352,
     "status": "ok",
     "timestamp": 1636339078397,
     "user": {
      "displayName": "박동규",
      "photoUrl": "https://lh3.googleusercontent.com/a-/AOh14GhpRCibv0_8j-H1SbFa_4yLDitwNUElwkvFYBL3Ppk=s64",
      "userId": "10745738943866733973"
     },
     "user_tz": -540
    },
    "id": "ng6-HfXcYGvT",
    "outputId": "608d3754-2ec0-4250-b0ce-a70f529e3425"
   },
   "outputs": [
    {
     "name": "stdout",
     "output_type": "stream",
     "text": [
      "소요시간:  8.869171142578125e-05\n",
      "소요시간: 0.0000886917\n"
     ]
    }
   ],
   "source": [
    "start = time.time()\n",
    "result = arr_a * arr_b # 벡터화 연산 * \n",
    "end = time.time()\n",
    "print('소요시간: ', end - start)\n",
    "print('소요시간: {:12.10f}'.format(end - start))"
   ]
  },
  {
   "cell_type": "code",
   "execution_count": null,
   "metadata": {
    "id": "DLlAEEcBZoM0"
   },
   "outputs": [],
   "source": [
    "n_elem = 100000 # 원소의 개수 \n",
    "arr_a = np.random.rand(n_elem) \n",
    "arr_b = np.random.rand(n_elem) \n",
    "result = np.zeros(n_elem)"
   ]
  },
  {
   "cell_type": "code",
   "execution_count": null,
   "metadata": {
    "colab": {
     "base_uri": "https://localhost:8080/"
    },
    "executionInfo": {
     "elapsed": 355,
     "status": "ok",
     "timestamp": 1636339154175,
     "user": {
      "displayName": "박동규",
      "photoUrl": "https://lh3.googleusercontent.com/a-/AOh14GhpRCibv0_8j-H1SbFa_4yLDitwNUElwkvFYBL3Ppk=s64",
      "userId": "10745738943866733973"
     },
     "user_tz": -540
    },
    "id": "KQ4yM-VxaVXf",
    "outputId": "ea3ec53e-b770-4224-8b29-128d7121dacb"
   },
   "outputs": [
    {
     "name": "stdout",
     "output_type": "stream",
     "text": [
      "원소별 접근 방식 소요시간:  0.06584548950195312\n",
      "벡터화 연산 수행 소요시간:  0.0018963813781738281\n"
     ]
    }
   ],
   "source": [
    "start = time.time()\n",
    "for i in range(n_elem): # 명시적인 작업 지시 : C 스타일\n",
    "    result[i] = arr_a[i] * arr_b[i]\n",
    "\n",
    "end = time.time()\n",
    "print('원소별 접근 방식 소요시간: ', end - start)\n",
    "\n",
    "start = time.time()\n",
    "result = arr_a * arr_b\n",
    "end = time.time()\n",
    "print('벡터화 연산 수행 소요시간: ', end - start)"
   ]
  },
  {
   "cell_type": "markdown",
   "metadata": {
    "id": "aeaujS-5ajrx"
   },
   "source": [
    "### 3.15 리덕션 : 배열을 더 강력하게 만드는 기능"
   ]
  },
  {
   "cell_type": "code",
   "execution_count": null,
   "metadata": {
    "colab": {
     "base_uri": "https://localhost:8080/"
    },
    "executionInfo": {
     "elapsed": 463,
     "status": "ok",
     "timestamp": 1636339197796,
     "user": {
      "displayName": "박동규",
      "photoUrl": "https://lh3.googleusercontent.com/a-/AOh14GhpRCibv0_8j-H1SbFa_4yLDitwNUElwkvFYBL3Ppk=s64",
      "userId": "10745738943866733973"
     },
     "user_tz": -540
    },
    "id": "iVRll3HqacV1",
    "outputId": "d29c4307-b4a9-441d-e77d-81ef76ff5aaf"
   },
   "outputs": [
    {
     "name": "stdout",
     "output_type": "stream",
     "text": [
      "[ 5 10 15 20 25]\n",
      "[15 15 15 15 15]\n"
     ]
    },
    {
     "data": {
      "text/plain": [
       "75"
      ]
     },
     "execution_count": 115,
     "metadata": {},
     "output_type": "execute_result"
    }
   ],
   "source": [
    "arr = np.array([[1,2,3,4,5],\n",
    "                [1,2,3,4,5],\n",
    "                [1,2,3,4,5],\n",
    "                [1,2,3,4,5],\n",
    "                [1,2,3,4,5],\n",
    "               ])\n",
    "print(np.sum(arr, axis = 0))\n",
    "print(np.sum(arr, axis = 1))\n",
    "np.sum(arr, axis=(0, 1)) # axis = (0, 1)은 생략 가능"
   ]
  },
  {
   "cell_type": "code",
   "execution_count": null,
   "metadata": {
    "id": "zZkKN5rNaqMd"
   },
   "outputs": [],
   "source": [
    "import numpy as np \n",
    "import time\n",
    "\n",
    "n = 1000\n",
    "arr = np.random.rand(n, n)"
   ]
  },
  {
   "cell_type": "code",
   "execution_count": null,
   "metadata": {
    "colab": {
     "base_uri": "https://localhost:8080/"
    },
    "executionInfo": {
     "elapsed": 881,
     "status": "ok",
     "timestamp": 1636339268739,
     "user": {
      "displayName": "박동규",
      "photoUrl": "https://lh3.googleusercontent.com/a-/AOh14GhpRCibv0_8j-H1SbFa_4yLDitwNUElwkvFYBL3Ppk=s64",
      "userId": "10745738943866733973"
     },
     "user_tz": -540
    },
    "id": "kqKwwU8eawH6",
    "outputId": "93d99be5-951f-4b8f-e6fe-501c399e18d2"
   },
   "outputs": [
    {
     "name": "stdout",
     "output_type": "stream",
     "text": [
      "1000 x 1000 배열의 원소 합 500299.15142491006 \n",
      "계산 시간:  0.4207429885864258\n"
     ]
    }
   ],
   "source": [
    "sum_naive = 0 \n",
    "start = time.time() \n",
    "for i in range(n):\n",
    "    for j in range(n): \n",
    "        sum_naive += arr[i,j]\n",
    "end = time.time()\n",
    "print(n, 'x', n, \"배열의 원소 합\", sum_naive, \"\\n계산 시간: \", end-start)"
   ]
  },
  {
   "cell_type": "code",
   "execution_count": null,
   "metadata": {
    "colab": {
     "base_uri": "https://localhost:8080/"
    },
    "executionInfo": {
     "elapsed": 378,
     "status": "ok",
     "timestamp": 1636339474239,
     "user": {
      "displayName": "박동규",
      "photoUrl": "https://lh3.googleusercontent.com/a-/AOh14GhpRCibv0_8j-H1SbFa_4yLDitwNUElwkvFYBL3Ppk=s64",
      "userId": "10745738943866733973"
     },
     "user_tz": -540
    },
    "id": "ifytixuNa3Wq",
    "outputId": "cd2d0ec1-8f2d-4b79-9b27-aa20fb0a5c03"
   },
   "outputs": [
    {
     "name": "stdout",
     "output_type": "stream",
     "text": [
      "1000 x 1000 배열의 원소 합 500299.15142490657 \n",
      "계산 시간:  0.0012891292572021484\n"
     ]
    }
   ],
   "source": [
    "start = time.time()\n",
    "sum_reduction = np.sum(arr, axis = (0,1))\n",
    "end = time.time()\n",
    "print(n, 'x', n, \"배열의 원소 합\", sum_reduction,\"\\n계산 시간: \",end-start)"
   ]
  },
  {
   "cell_type": "markdown",
   "metadata": {
    "id": "qDCX_zdVb--D"
   },
   "source": [
    "### 3.16 선형방정식을 풀어보자"
   ]
  },
  {
   "cell_type": "code",
   "execution_count": null,
   "metadata": {
    "colab": {
     "base_uri": "https://localhost:8080/"
    },
    "executionInfo": {
     "elapsed": 553,
     "status": "ok",
     "timestamp": 1636339587821,
     "user": {
      "displayName": "박동규",
      "photoUrl": "https://lh3.googleusercontent.com/a-/AOh14GhpRCibv0_8j-H1SbFa_4yLDitwNUElwkvFYBL3Ppk=s64",
      "userId": "10745738943866733973"
     },
     "user_tz": -540
    },
    "id": "gZ3vNssVbi5x",
    "outputId": "6d845a4f-6ef8-4e90-b115-083e9b7be825"
   },
   "outputs": [
    {
     "name": "stdout",
     "output_type": "stream",
     "text": [
      "[4. 1.]\n"
     ]
    }
   ],
   "source": [
    "import numpy as np\n",
    "\n",
    "a = np.array([[1, 2], [1, -3]])\n",
    "b = np.array([6, 1])\n",
    "s = np.linalg.solve(a, b)\n",
    "print(s)"
   ]
  },
  {
   "cell_type": "code",
   "execution_count": null,
   "metadata": {
    "colab": {
     "base_uri": "https://localhost:8080/"
    },
    "executionInfo": {
     "elapsed": 420,
     "status": "ok",
     "timestamp": 1636339607416,
     "user": {
      "displayName": "박동규",
      "photoUrl": "https://lh3.googleusercontent.com/a-/AOh14GhpRCibv0_8j-H1SbFa_4yLDitwNUElwkvFYBL3Ppk=s64",
      "userId": "10745738943866733973"
     },
     "user_tz": -540
    },
    "id": "ju85GgIScI-1",
    "outputId": "f8d04ee1-958a-44e4-e7be-fd3b25ce7afe"
   },
   "outputs": [
    {
     "name": "stdout",
     "output_type": "stream",
     "text": [
      "6.0 -12.0\n"
     ]
    }
   ],
   "source": [
    "a = np.array([[2, 1], [4, 5]])\n",
    "det_a = np.linalg.det(a)        # a 행렬의 행렬식\n",
    "b = np.array([[1, 2], [3, -6]])\n",
    "det_b = np.linalg.det(b)        # b 행렬의 행렬식\n",
    "print(det_a, det_b)"
   ]
  },
  {
   "cell_type": "markdown",
   "metadata": {
    "id": "e-5QJiKqcRAT"
   },
   "source": [
    "### 3.17 배열의 결합 concatenate, vstack, hstack\n"
   ]
  },
  {
   "cell_type": "code",
   "execution_count": null,
   "metadata": {
    "colab": {
     "base_uri": "https://localhost:8080/"
    },
    "executionInfo": {
     "elapsed": 349,
     "status": "ok",
     "timestamp": 1636339656302,
     "user": {
      "displayName": "박동규",
      "photoUrl": "https://lh3.googleusercontent.com/a-/AOh14GhpRCibv0_8j-H1SbFa_4yLDitwNUElwkvFYBL3Ppk=s64",
      "userId": "10745738943866733973"
     },
     "user_tz": -540
    },
    "id": "rSHiYIYScXRr",
    "outputId": "cca1664e-2c4b-4e2d-b7e8-f6fc92f0305f"
   },
   "outputs": [
    {
     "data": {
      "text/plain": [
       "array([[10, 11, 12, 13],\n",
       "       [14, 15, 16, 17]])"
      ]
     },
     "execution_count": 125,
     "metadata": {},
     "output_type": "execute_result"
    }
   ],
   "source": [
    "a = np.arange(10, 18).reshape(2,4)\n",
    "b = np.arange(12).reshape(3,4)\n",
    "c = np.arange(8).reshape(2,4)\n",
    "d = list(range(4))\n",
    "a   # (2, 4) 형상의 다차원 배열로 10에서 17까지의 원소를 가짐"
   ]
  },
  {
   "cell_type": "code",
   "execution_count": null,
   "metadata": {
    "colab": {
     "base_uri": "https://localhost:8080/"
    },
    "executionInfo": {
     "elapsed": 344,
     "status": "ok",
     "timestamp": 1636339676596,
     "user": {
      "displayName": "박동규",
      "photoUrl": "https://lh3.googleusercontent.com/a-/AOh14GhpRCibv0_8j-H1SbFa_4yLDitwNUElwkvFYBL3Ppk=s64",
      "userId": "10745738943866733973"
     },
     "user_tz": -540
    },
    "id": "4BSrPA62cOIn",
    "outputId": "aa0ff0c3-e063-4da2-fc4e-26a1f1c3173b"
   },
   "outputs": [
    {
     "data": {
      "text/plain": [
       "array([[ 0,  1,  2,  3],\n",
       "       [ 4,  5,  6,  7],\n",
       "       [ 8,  9, 10, 11]])"
      ]
     },
     "execution_count": 126,
     "metadata": {},
     "output_type": "execute_result"
    }
   ],
   "source": [
    "b  # (3, 4) 형상의 다차원 배열로 0에서 11까지의 원소를 가짐"
   ]
  },
  {
   "cell_type": "code",
   "execution_count": null,
   "metadata": {
    "colab": {
     "base_uri": "https://localhost:8080/"
    },
    "executionInfo": {
     "elapsed": 356,
     "status": "ok",
     "timestamp": 1636339689508,
     "user": {
      "displayName": "박동규",
      "photoUrl": "https://lh3.googleusercontent.com/a-/AOh14GhpRCibv0_8j-H1SbFa_4yLDitwNUElwkvFYBL3Ppk=s64",
      "userId": "10745738943866733973"
     },
     "user_tz": -540
    },
    "id": "26LW0xV6cfC-",
    "outputId": "1dc236e8-3cc3-47fe-e7ab-e50e05915264"
   },
   "outputs": [
    {
     "data": {
      "text/plain": [
       "array([[0, 1, 2, 3],\n",
       "       [4, 5, 6, 7]])"
      ]
     },
     "execution_count": 127,
     "metadata": {},
     "output_type": "execute_result"
    }
   ],
   "source": [
    "c   # (2, 4) 형상의 다차원 배열로 0에서 7까지의 원소를 가짐"
   ]
  },
  {
   "cell_type": "code",
   "execution_count": null,
   "metadata": {
    "colab": {
     "base_uri": "https://localhost:8080/"
    },
    "executionInfo": {
     "elapsed": 359,
     "status": "ok",
     "timestamp": 1636339703450,
     "user": {
      "displayName": "박동규",
      "photoUrl": "https://lh3.googleusercontent.com/a-/AOh14GhpRCibv0_8j-H1SbFa_4yLDitwNUElwkvFYBL3Ppk=s64",
      "userId": "10745738943866733973"
     },
     "user_tz": -540
    },
    "id": "Df0hygnbciMT",
    "outputId": "abfda4d6-9a74-4914-c067-2c49d7fc50aa"
   },
   "outputs": [
    {
     "data": {
      "text/plain": [
       "[0, 1, 2, 3]"
      ]
     },
     "execution_count": 128,
     "metadata": {},
     "output_type": "execute_result"
    }
   ],
   "source": [
    "d   # d는 1차원 리스트로 0에서 3까지의 원소를 가짐"
   ]
  },
  {
   "cell_type": "code",
   "execution_count": null,
   "metadata": {
    "colab": {
     "base_uri": "https://localhost:8080/"
    },
    "executionInfo": {
     "elapsed": 329,
     "status": "ok",
     "timestamp": 1636339716153,
     "user": {
      "displayName": "박동규",
      "photoUrl": "https://lh3.googleusercontent.com/a-/AOh14GhpRCibv0_8j-H1SbFa_4yLDitwNUElwkvFYBL3Ppk=s64",
      "userId": "10745738943866733973"
     },
     "user_tz": -540
    },
    "id": "bIrzKiPUclpr",
    "outputId": "0a96988c-8e5a-457f-8135-dce6e0bbcc23"
   },
   "outputs": [
    {
     "data": {
      "text/plain": [
       "array([[10, 11, 12, 13],\n",
       "       [14, 15, 16, 17],\n",
       "       [ 0,  1,  2,  3],\n",
       "       [ 4,  5,  6,  7],\n",
       "       [ 8,  9, 10, 11]])"
      ]
     },
     "execution_count": 129,
     "metadata": {},
     "output_type": "execute_result"
    }
   ],
   "source": [
    "np.concatenate((a, b))   # a 배열의 마지막 원소 다음에 b 배열을 넣는다"
   ]
  },
  {
   "cell_type": "code",
   "execution_count": null,
   "metadata": {
    "colab": {
     "base_uri": "https://localhost:8080/"
    },
    "executionInfo": {
     "elapsed": 308,
     "status": "ok",
     "timestamp": 1636339728152,
     "user": {
      "displayName": "박동규",
      "photoUrl": "https://lh3.googleusercontent.com/a-/AOh14GhpRCibv0_8j-H1SbFa_4yLDitwNUElwkvFYBL3Ppk=s64",
      "userId": "10745738943866733973"
     },
     "user_tz": -540
    },
    "id": "1za0lUWIcqsz",
    "outputId": "0080c0c7-301d-4a04-f9e2-7722b0094d53"
   },
   "outputs": [
    {
     "data": {
      "text/plain": [
       "array([[10, 11, 12, 13],\n",
       "       [14, 15, 16, 17],\n",
       "       [ 0,  1,  2,  3],\n",
       "       [ 4,  5,  6,  7],\n",
       "       [ 8,  9, 10, 11]])"
      ]
     },
     "execution_count": 130,
     "metadata": {},
     "output_type": "execute_result"
    }
   ],
   "source": [
    "np.vstack((a, b)) # a 배열과 b 배열을 수직 방향으로 결합"
   ]
  },
  {
   "cell_type": "code",
   "execution_count": null,
   "metadata": {
    "colab": {
     "base_uri": "https://localhost:8080/"
    },
    "executionInfo": {
     "elapsed": 405,
     "status": "ok",
     "timestamp": 1636339747938,
     "user": {
      "displayName": "박동규",
      "photoUrl": "https://lh3.googleusercontent.com/a-/AOh14GhpRCibv0_8j-H1SbFa_4yLDitwNUElwkvFYBL3Ppk=s64",
      "userId": "10745738943866733973"
     },
     "user_tz": -540
    },
    "id": "PmG0-zovcroX",
    "outputId": "c0ecd6ba-b9a2-4ce9-d6ff-43a551f39052"
   },
   "outputs": [
    {
     "data": {
      "text/plain": [
       "array([[10, 11, 12, 13],\n",
       "       [14, 15, 16, 17],\n",
       "       [ 0,  1,  2,  3]])"
      ]
     },
     "execution_count": 131,
     "metadata": {},
     "output_type": "execute_result"
    }
   ],
   "source": [
    "np.vstack((a, d)) # a 배열과 d 리스트의 결합"
   ]
  },
  {
   "cell_type": "code",
   "execution_count": null,
   "metadata": {
    "colab": {
     "base_uri": "https://localhost:8080/"
    },
    "executionInfo": {
     "elapsed": 758,
     "status": "ok",
     "timestamp": 1636339765437,
     "user": {
      "displayName": "박동규",
      "photoUrl": "https://lh3.googleusercontent.com/a-/AOh14GhpRCibv0_8j-H1SbFa_4yLDitwNUElwkvFYBL3Ppk=s64",
      "userId": "10745738943866733973"
     },
     "user_tz": -540
    },
    "id": "tc3R2gdecwce",
    "outputId": "07b4d298-7fd6-4385-ace3-d7c57ea60daa"
   },
   "outputs": [
    {
     "data": {
      "text/plain": [
       "array([[10, 11, 12, 13],\n",
       "       [14, 15, 16, 17],\n",
       "       [ 0,  1,  2,  3],\n",
       "       [ 4,  5,  6,  7],\n",
       "       [ 8,  9, 10, 11],\n",
       "       [ 0,  1,  2,  3]])"
      ]
     },
     "execution_count": 132,
     "metadata": {},
     "output_type": "execute_result"
    }
   ],
   "source": [
    "np.vstack((a, b, d)) # 다차원 배열 3개를 결합"
   ]
  },
  {
   "cell_type": "code",
   "execution_count": null,
   "metadata": {
    "colab": {
     "base_uri": "https://localhost:8080/"
    },
    "executionInfo": {
     "elapsed": 318,
     "status": "ok",
     "timestamp": 1636339773883,
     "user": {
      "displayName": "박동규",
      "photoUrl": "https://lh3.googleusercontent.com/a-/AOh14GhpRCibv0_8j-H1SbFa_4yLDitwNUElwkvFYBL3Ppk=s64",
      "userId": "10745738943866733973"
     },
     "user_tz": -540
    },
    "id": "Tef2OifDc0k8",
    "outputId": "97c53f8e-c9c6-4dd9-9579-796b31866662"
   },
   "outputs": [
    {
     "data": {
      "text/plain": [
       "array([[10, 11, 12, 13,  0,  1,  2,  3],\n",
       "       [14, 15, 16, 17,  4,  5,  6,  7]])"
      ]
     },
     "execution_count": 133,
     "metadata": {},
     "output_type": "execute_result"
    }
   ],
   "source": [
    "np.hstack((a, c))   # 다차원 배열 a, c를 수평으로 결합"
   ]
  },
  {
   "cell_type": "code",
   "execution_count": null,
   "metadata": {
    "colab": {
     "base_uri": "https://localhost:8080/",
     "height": 368
    },
    "executionInfo": {
     "elapsed": 464,
     "status": "error",
     "timestamp": 1636339785862,
     "user": {
      "displayName": "박동규",
      "photoUrl": "https://lh3.googleusercontent.com/a-/AOh14GhpRCibv0_8j-H1SbFa_4yLDitwNUElwkvFYBL3Ppk=s64",
      "userId": "10745738943866733973"
     },
     "user_tz": -540
    },
    "id": "ninm46SJc26s",
    "outputId": "7b67891e-3625-4d1b-a9c5-62d31e04e414"
   },
   "outputs": [
    {
     "ename": "ValueError",
     "evalue": "ignored",
     "output_type": "error",
     "traceback": [
      "\u001b[0;31m---------------------------------------------------------------------------\u001b[0m",
      "\u001b[0;31mValueError\u001b[0m                                Traceback (most recent call last)",
      "\u001b[0;32m<ipython-input-134-e09d1414ae50>\u001b[0m in \u001b[0;36m<module>\u001b[0;34m()\u001b[0m\n\u001b[1;32m      1\u001b[0m \u001b[0;31m# a 배열은 형상이 (2, 4), b 배열은 (3, 4)로 수평 결합이 안됨\u001b[0m\u001b[0;34m\u001b[0m\u001b[0;34m\u001b[0m\u001b[0;34m\u001b[0m\u001b[0m\n\u001b[0;32m----> 2\u001b[0;31m \u001b[0mnp\u001b[0m\u001b[0;34m.\u001b[0m\u001b[0mhstack\u001b[0m\u001b[0;34m(\u001b[0m\u001b[0;34m(\u001b[0m\u001b[0ma\u001b[0m\u001b[0;34m,\u001b[0m \u001b[0mb\u001b[0m\u001b[0;34m)\u001b[0m\u001b[0;34m)\u001b[0m \u001b[0;31m# a 배열과 b 배열의 hstack 결합-오류\u001b[0m\u001b[0;34m\u001b[0m\u001b[0;34m\u001b[0m\u001b[0m\n\u001b[0m",
      "\u001b[0;32m<__array_function__ internals>\u001b[0m in \u001b[0;36mhstack\u001b[0;34m(*args, **kwargs)\u001b[0m\n",
      "\u001b[0;32m/usr/local/lib/python3.7/dist-packages/numpy/core/shape_base.py\u001b[0m in \u001b[0;36mhstack\u001b[0;34m(tup)\u001b[0m\n\u001b[1;32m    344\u001b[0m         \u001b[0;32mreturn\u001b[0m \u001b[0m_nx\u001b[0m\u001b[0;34m.\u001b[0m\u001b[0mconcatenate\u001b[0m\u001b[0;34m(\u001b[0m\u001b[0marrs\u001b[0m\u001b[0;34m,\u001b[0m \u001b[0;36m0\u001b[0m\u001b[0;34m)\u001b[0m\u001b[0;34m\u001b[0m\u001b[0;34m\u001b[0m\u001b[0m\n\u001b[1;32m    345\u001b[0m     \u001b[0;32melse\u001b[0m\u001b[0;34m:\u001b[0m\u001b[0;34m\u001b[0m\u001b[0;34m\u001b[0m\u001b[0m\n\u001b[0;32m--> 346\u001b[0;31m         \u001b[0;32mreturn\u001b[0m \u001b[0m_nx\u001b[0m\u001b[0;34m.\u001b[0m\u001b[0mconcatenate\u001b[0m\u001b[0;34m(\u001b[0m\u001b[0marrs\u001b[0m\u001b[0;34m,\u001b[0m \u001b[0;36m1\u001b[0m\u001b[0;34m)\u001b[0m\u001b[0;34m\u001b[0m\u001b[0;34m\u001b[0m\u001b[0m\n\u001b[0m\u001b[1;32m    347\u001b[0m \u001b[0;34m\u001b[0m\u001b[0m\n\u001b[1;32m    348\u001b[0m \u001b[0;34m\u001b[0m\u001b[0m\n",
      "\u001b[0;32m<__array_function__ internals>\u001b[0m in \u001b[0;36mconcatenate\u001b[0;34m(*args, **kwargs)\u001b[0m\n",
      "\u001b[0;31mValueError\u001b[0m: all the input array dimensions for the concatenation axis must match exactly, but along dimension 0, the array at index 0 has size 2 and the array at index 1 has size 3"
     ]
    }
   ],
   "source": [
    "# a 배열은 형상이 (2, 4), b 배열은 (3, 4)로 수평 결합이 안됨\n",
    "np.hstack((a, b)) # a 배열과 b 배열의 hstack 결합-오류"
   ]
  },
  {
   "cell_type": "markdown",
   "metadata": {
    "id": "b2NfmxoJc9fB"
   },
   "source": [
    "### 3.18 배열을 결합하는 _r, _c 클래스와 column_stack() 함수"
   ]
  },
  {
   "cell_type": "code",
   "execution_count": null,
   "metadata": {
    "id": "PWW3wuxndAdK"
   },
   "outputs": [],
   "source": [
    "a = np.array([1, 2, 3])\n",
    "b = np.array([10, 20, 30])\n",
    "c = np.array([[1, 2, 3], [4, 5, 6]])\n",
    "d = np.array([[10, 20, 30], [40, 50, 60]])"
   ]
  },
  {
   "cell_type": "code",
   "execution_count": null,
   "metadata": {
    "colab": {
     "base_uri": "https://localhost:8080/"
    },
    "executionInfo": {
     "elapsed": 386,
     "status": "ok",
     "timestamp": 1636339837004,
     "user": {
      "displayName": "박동규",
      "photoUrl": "https://lh3.googleusercontent.com/a-/AOh14GhpRCibv0_8j-H1SbFa_4yLDitwNUElwkvFYBL3Ppk=s64",
      "userId": "10745738943866733973"
     },
     "user_tz": -540
    },
    "id": "Ar3tW6JwdDaR",
    "outputId": "5772a5a0-6c77-45e9-cd4c-f3e9a623466e"
   },
   "outputs": [
    {
     "data": {
      "text/plain": [
       "array([ 1,  2,  3, 10, 20, 30])"
      ]
     },
     "execution_count": 137,
     "metadata": {},
     "output_type": "execute_result"
    }
   ],
   "source": [
    "np.r_[a, b]   # a, b 배열을 결합시킴 np.hstack([a, b])와 같다"
   ]
  },
  {
   "cell_type": "code",
   "execution_count": null,
   "metadata": {
    "colab": {
     "base_uri": "https://localhost:8080/"
    },
    "executionInfo": {
     "elapsed": 310,
     "status": "ok",
     "timestamp": 1636339847828,
     "user": {
      "displayName": "박동규",
      "photoUrl": "https://lh3.googleusercontent.com/a-/AOh14GhpRCibv0_8j-H1SbFa_4yLDitwNUElwkvFYBL3Ppk=s64",
      "userId": "10745738943866733973"
     },
     "user_tz": -540
    },
    "id": "huNxSoaEdGUI",
    "outputId": "c44f1df0-16da-4ba3-bed9-c1973bf26984"
   },
   "outputs": [
    {
     "data": {
      "text/plain": [
       "array([ 1,  2,  3,  4,  5,  6, 10, 20, 30])"
      ]
     },
     "execution_count": 138,
     "metadata": {},
     "output_type": "execute_result"
    }
   ],
   "source": [
    "np.r_[a, 4, 5, 6, b] # 중간에 개별 원소 삽입도 가능하다"
   ]
  },
  {
   "cell_type": "code",
   "execution_count": null,
   "metadata": {
    "colab": {
     "base_uri": "https://localhost:8080/"
    },
    "executionInfo": {
     "elapsed": 311,
     "status": "ok",
     "timestamp": 1636339865569,
     "user": {
      "displayName": "박동규",
      "photoUrl": "https://lh3.googleusercontent.com/a-/AOh14GhpRCibv0_8j-H1SbFa_4yLDitwNUElwkvFYBL3Ppk=s64",
      "userId": "10745738943866733973"
     },
     "user_tz": -540
    },
    "id": "F88FHx5HdI-_",
    "outputId": "23412ee5-88e1-42a9-d397-569d8911bbcb"
   },
   "outputs": [
    {
     "data": {
      "text/plain": [
       "array([0, 0, 0, 5, 6])"
      ]
     },
     "execution_count": 139,
     "metadata": {},
     "output_type": "execute_result"
    }
   ],
   "source": [
    "np.r_[[0]*3, 5, 6]"
   ]
  },
  {
   "cell_type": "code",
   "execution_count": null,
   "metadata": {
    "colab": {
     "base_uri": "https://localhost:8080/"
    },
    "executionInfo": {
     "elapsed": 306,
     "status": "ok",
     "timestamp": 1636339876413,
     "user": {
      "displayName": "박동규",
      "photoUrl": "https://lh3.googleusercontent.com/a-/AOh14GhpRCibv0_8j-H1SbFa_4yLDitwNUElwkvFYBL3Ppk=s64",
      "userId": "10745738943866733973"
     },
     "user_tz": -540
    },
    "id": "_TKqurNAdNUB",
    "outputId": "68d0804d-9263-45f8-c46c-5beb1a832d4f"
   },
   "outputs": [
    {
     "data": {
      "text/plain": [
       "array([[ 1,  2,  3],\n",
       "       [ 4,  5,  6],\n",
       "       [10, 20, 30],\n",
       "       [40, 50, 60]])"
      ]
     },
     "execution_count": 140,
     "metadata": {},
     "output_type": "execute_result"
    }
   ],
   "source": [
    "np.r_[c, d]  # 2차원 배열을 axis=0 방향으로 결합한다"
   ]
  },
  {
   "cell_type": "code",
   "execution_count": null,
   "metadata": {
    "colab": {
     "base_uri": "https://localhost:8080/"
    },
    "executionInfo": {
     "elapsed": 305,
     "status": "ok",
     "timestamp": 1636339888039,
     "user": {
      "displayName": "박동규",
      "photoUrl": "https://lh3.googleusercontent.com/a-/AOh14GhpRCibv0_8j-H1SbFa_4yLDitwNUElwkvFYBL3Ppk=s64",
      "userId": "10745738943866733973"
     },
     "user_tz": -540
    },
    "id": "ydBq5ONddP9q",
    "outputId": "60cc2819-1b6d-463c-f766-bfbd7265d6eb"
   },
   "outputs": [
    {
     "data": {
      "text/plain": [
       "array([[ 1],\n",
       "       [ 2],\n",
       "       [ 3],\n",
       "       [10],\n",
       "       [20],\n",
       "       [30]])"
      ]
     },
     "execution_count": 141,
     "metadata": {},
     "output_type": "execute_result"
    }
   ],
   "source": [
    "# a, b를 2차원 배열로 만들어서 axis=0 방향으로 결합\n",
    "np.r_[a.reshape(-1,1), b.reshape(-1,1)] "
   ]
  },
  {
   "cell_type": "code",
   "execution_count": null,
   "metadata": {
    "colab": {
     "base_uri": "https://localhost:8080/"
    },
    "executionInfo": {
     "elapsed": 455,
     "status": "ok",
     "timestamp": 1636339902091,
     "user": {
      "displayName": "박동규",
      "photoUrl": "https://lh3.googleusercontent.com/a-/AOh14GhpRCibv0_8j-H1SbFa_4yLDitwNUElwkvFYBL3Ppk=s64",
      "userId": "10745738943866733973"
     },
     "user_tz": -540
    },
    "id": "vktyXeyzdSzb",
    "outputId": "3a9166f6-6e9b-4af0-dd8e-9f7890631dfe"
   },
   "outputs": [
    {
     "data": {
      "text/plain": [
       "array([[ 1, 10],\n",
       "       [ 2, 20],\n",
       "       [ 3, 30]])"
      ]
     },
     "execution_count": 142,
     "metadata": {},
     "output_type": "execute_result"
    }
   ],
   "source": [
    "np.concatenate((a.reshape(-1, 1), b.reshape(-1, 1)), axis=1)"
   ]
  },
  {
   "cell_type": "code",
   "execution_count": null,
   "metadata": {
    "colab": {
     "base_uri": "https://localhost:8080/"
    },
    "executionInfo": {
     "elapsed": 308,
     "status": "ok",
     "timestamp": 1636339909135,
     "user": {
      "displayName": "박동규",
      "photoUrl": "https://lh3.googleusercontent.com/a-/AOh14GhpRCibv0_8j-H1SbFa_4yLDitwNUElwkvFYBL3Ppk=s64",
      "userId": "10745738943866733973"
     },
     "user_tz": -540
    },
    "id": "EMynbea5dWMg",
    "outputId": "86092168-4438-4625-a880-ec5b7c38bcf3"
   },
   "outputs": [
    {
     "data": {
      "text/plain": [
       "array([[ 1, 10],\n",
       "       [ 2, 20],\n",
       "       [ 3, 30]])"
      ]
     },
     "execution_count": 143,
     "metadata": {},
     "output_type": "execute_result"
    }
   ],
   "source": [
    "np.c_[a, b]"
   ]
  },
  {
   "cell_type": "code",
   "execution_count": null,
   "metadata": {
    "colab": {
     "base_uri": "https://localhost:8080/"
    },
    "executionInfo": {
     "elapsed": 303,
     "status": "ok",
     "timestamp": 1636339920762,
     "user": {
      "displayName": "박동규",
      "photoUrl": "https://lh3.googleusercontent.com/a-/AOh14GhpRCibv0_8j-H1SbFa_4yLDitwNUElwkvFYBL3Ppk=s64",
      "userId": "10745738943866733973"
     },
     "user_tz": -540
    },
    "id": "ix3gUtK0dXyH",
    "outputId": "bd15d90e-abdb-4a79-a129-37d372e97f3a"
   },
   "outputs": [
    {
     "data": {
      "text/plain": [
       "array([[ 1, 10],\n",
       "       [ 2, 20],\n",
       "       [ 3, 30]])"
      ]
     },
     "execution_count": 144,
     "metadata": {},
     "output_type": "execute_result"
    }
   ],
   "source": [
    "np.column_stack([a, b])"
   ]
  },
  {
   "cell_type": "code",
   "execution_count": null,
   "metadata": {
    "colab": {
     "base_uri": "https://localhost:8080/"
    },
    "executionInfo": {
     "elapsed": 343,
     "status": "ok",
     "timestamp": 1636339931132,
     "user": {
      "displayName": "박동규",
      "photoUrl": "https://lh3.googleusercontent.com/a-/AOh14GhpRCibv0_8j-H1SbFa_4yLDitwNUElwkvFYBL3Ppk=s64",
      "userId": "10745738943866733973"
     },
     "user_tz": -540
    },
    "id": "Ce_faVUodaoE",
    "outputId": "192649c4-59cd-4d50-835c-9c2b8af4fb17"
   },
   "outputs": [
    {
     "data": {
      "text/plain": [
       "array([[ 1,  4, 10, 40],\n",
       "       [ 2,  5, 20, 50],\n",
       "       [ 3,  6, 30, 60]])"
      ]
     },
     "execution_count": 145,
     "metadata": {},
     "output_type": "execute_result"
    }
   ],
   "source": [
    "# c와 d의 전치행렬을 결합시킨다\n",
    "np.concatenate((c.T, d.T), axis=1)"
   ]
  },
  {
   "cell_type": "code",
   "execution_count": null,
   "metadata": {
    "colab": {
     "base_uri": "https://localhost:8080/"
    },
    "executionInfo": {
     "elapsed": 327,
     "status": "ok",
     "timestamp": 1636340013596,
     "user": {
      "displayName": "박동규",
      "photoUrl": "https://lh3.googleusercontent.com/a-/AOh14GhpRCibv0_8j-H1SbFa_4yLDitwNUElwkvFYBL3Ppk=s64",
      "userId": "10745738943866733973"
     },
     "user_tz": -540
    },
    "id": "FgFfp5w9ddT0",
    "outputId": "793abd55-ffdc-4f1e-fbab-8cd46f3bcfc3"
   },
   "outputs": [
    {
     "data": {
      "text/plain": [
       "array([[ 1,  2,  3],\n",
       "       [10, 20, 30]])"
      ]
     },
     "execution_count": 147,
     "metadata": {},
     "output_type": "execute_result"
    }
   ],
   "source": [
    "np.r_[[a], [b]]"
   ]
  },
  {
   "cell_type": "markdown",
   "metadata": {
    "id": "w8hA0MaGeCMV"
   },
   "source": [
    "## 감사합니다"
   ]
  },
  {
   "cell_type": "code",
   "execution_count": null,
   "metadata": {
    "id": "8W2VWjGeeEUL"
   },
   "outputs": [],
   "source": []
  }
 ],
 "metadata": {
  "colab": {
   "authorship_tag": "ABX9TyO1q9HDHF5OvmMGtJmPBlpK",
   "collapsed_sections": [],
   "name": "03_파이썬 최고의 라이브러리_넘파이.ipynb",
   "provenance": []
  },
  "kernelspec": {
   "display_name": "Python 3",
   "language": "python",
   "name": "python3"
  },
  "language_info": {
   "codemirror_mode": {
    "name": "ipython",
    "version": 3
   },
   "file_extension": ".py",
   "mimetype": "text/x-python",
   "name": "python",
   "nbconvert_exporter": "python",
   "pygments_lexer": "ipython3",
   "version": "3.8.8"
  }
 },
 "nbformat": 4,
 "nbformat_minor": 1
}
